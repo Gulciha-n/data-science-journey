{
  "nbformat": 4,
  "nbformat_minor": 0,
  "metadata": {
    "colab": {
      "provenance": []
    },
    "kernelspec": {
      "name": "python3",
      "display_name": "Python 3"
    },
    "language_info": {
      "name": "python"
    }
  },
  "cells": [
    {
      "cell_type": "code",
      "execution_count": 1,
      "metadata": {
        "id": "ECAST6JvfeU5"
      },
      "outputs": [],
      "source": [
        "import numpy as np"
      ]
    },
    {
      "cell_type": "code",
      "source": [
        "result = np.array([10,15,20,25,30])\n",
        "print(result)"
      ],
      "metadata": {
        "colab": {
          "base_uri": "https://localhost:8080/"
        },
        "id": "B-2S63jzflxY",
        "outputId": "feeec96f-6840-4c67-a559-d50ffd5d5b04"
      },
      "execution_count": 2,
      "outputs": [
        {
          "output_type": "stream",
          "name": "stdout",
          "text": [
            "[10 15 20 25 30]\n"
          ]
        }
      ]
    },
    {
      "cell_type": "code",
      "source": [
        "result2 = np.arange(5,15)\n",
        "print(result2)"
      ],
      "metadata": {
        "colab": {
          "base_uri": "https://localhost:8080/"
        },
        "id": "CQuxBfbFf1pT",
        "outputId": "818a5041-d64c-4e51-d278-40b406465b53"
      },
      "execution_count": 3,
      "outputs": [
        {
          "output_type": "stream",
          "name": "stdout",
          "text": [
            "[ 5  6  7  8  9 10 11 12 13 14]\n"
          ]
        }
      ]
    },
    {
      "cell_type": "code",
      "source": [
        "result3  = np.arange(50,100,5)\n",
        "print(result3)"
      ],
      "metadata": {
        "colab": {
          "base_uri": "https://localhost:8080/"
        },
        "id": "ArDMBMEqf8QD",
        "outputId": "1a2895de-a6cd-4976-c0f7-8faceced4473"
      },
      "execution_count": 4,
      "outputs": [
        {
          "output_type": "stream",
          "name": "stdout",
          "text": [
            "[50 55 60 65 70 75 80 85 90 95]\n"
          ]
        }
      ]
    },
    {
      "cell_type": "code",
      "source": [
        "print(np.zeros(10))"
      ],
      "metadata": {
        "colab": {
          "base_uri": "https://localhost:8080/"
        },
        "id": "RQ9fYD6VgJPC",
        "outputId": "d6fd05a6-f630-41a8-9539-d7acc3162021"
      },
      "execution_count": 5,
      "outputs": [
        {
          "output_type": "stream",
          "name": "stdout",
          "text": [
            "[0. 0. 0. 0. 0. 0. 0. 0. 0. 0.]\n"
          ]
        }
      ]
    },
    {
      "cell_type": "code",
      "source": [
        "print(np.ones(10))"
      ],
      "metadata": {
        "colab": {
          "base_uri": "https://localhost:8080/"
        },
        "id": "YeKtoBE-gRpC",
        "outputId": "85acc1b4-c6d9-4831-9e15-c4184fc8cedd"
      },
      "execution_count": 6,
      "outputs": [
        {
          "output_type": "stream",
          "name": "stdout",
          "text": [
            "[1. 1. 1. 1. 1. 1. 1. 1. 1. 1.]\n"
          ]
        }
      ]
    },
    {
      "cell_type": "code",
      "source": [
        "result4 = np.linspace(0,100,5)  # linspace (lineer space): eşit aralıklarla 5 tane sayı üret\n",
        "print(result4)"
      ],
      "metadata": {
        "colab": {
          "base_uri": "https://localhost:8080/"
        },
        "id": "i2v0qT_cgV6v",
        "outputId": "3c5b0ac5-b720-4e9a-bae3-4cc31b837d13"
      },
      "execution_count": 7,
      "outputs": [
        {
          "output_type": "stream",
          "name": "stdout",
          "text": [
            "[  0.  25.  50.  75. 100.]\n"
          ]
        }
      ]
    },
    {
      "cell_type": "code",
      "source": [
        "result5 = np.random.randint(10,30,5)\n",
        "print(result5)"
      ],
      "metadata": {
        "colab": {
          "base_uri": "https://localhost:8080/"
        },
        "id": "3Jrnl62PgjIl",
        "outputId": "31debb6a-1802-495f-d74d-41e7c4f77991"
      },
      "execution_count": 8,
      "outputs": [
        {
          "output_type": "stream",
          "name": "stdout",
          "text": [
            "[24 22 10 21 22]\n"
          ]
        }
      ]
    },
    {
      "cell_type": "code",
      "source": [
        "result6 = np.random.rand(10)  # rand :  0- 1 arasında 10 tane sayı\n",
        "print(result6)"
      ],
      "metadata": {
        "colab": {
          "base_uri": "https://localhost:8080/"
        },
        "id": "W2aTRcr2g6rq",
        "outputId": "4a2c7cb6-87d0-4b35-e5b3-25c2b9c55ac9"
      },
      "execution_count": 9,
      "outputs": [
        {
          "output_type": "stream",
          "name": "stdout",
          "text": [
            "[0.37859999 0.28324636 0.33473199 0.76894779 0.39476133 0.23557648\n",
            " 0.62048814 0.23272079 0.1926776  0.20091264]\n"
          ]
        }
      ]
    },
    {
      "cell_type": "code",
      "source": [
        "result7 = np.random.randn(10)  # randn : -1 - 1 arasında 10 tane sayı\n",
        "print(result7)"
      ],
      "metadata": {
        "colab": {
          "base_uri": "https://localhost:8080/"
        },
        "id": "8-o5xBMZhjZt",
        "outputId": "636be1fa-b237-4bf3-945d-b50ec7a4413d"
      },
      "execution_count": 10,
      "outputs": [
        {
          "output_type": "stream",
          "name": "stdout",
          "text": [
            "[ 0.35125402 -0.34521631 -1.73006749  0.44169113 -0.74620884 -1.17644903\n",
            "  0.67596988  0.21582758  1.08772198 -0.85225846]\n"
          ]
        }
      ]
    },
    {
      "cell_type": "code",
      "source": [
        "result8 =  np.random.randint(10,50,15)  # (3x5) bir batris oluşturmak\n",
        "print(result8)\n",
        "\n",
        "print(result8.reshape(3,5))"
      ],
      "metadata": {
        "colab": {
          "base_uri": "https://localhost:8080/"
        },
        "id": "zmsFfRmHhzQi",
        "outputId": "342b5cb0-303b-4090-d7a6-7f608d68fb71"
      },
      "execution_count": 11,
      "outputs": [
        {
          "output_type": "stream",
          "name": "stdout",
          "text": [
            "[16 31 23 41 15 11 32 21 29 28 33 14 21 33 16]\n",
            "[[16 31 23 41 15]\n",
            " [11 32 21 29 28]\n",
            " [33 14 21 33 16]]\n"
          ]
        }
      ]
    },
    {
      "cell_type": "code",
      "source": [
        "result9 =  np.random.randint(1,100,9).reshape(3,3)\n",
        "print(result9)"
      ],
      "metadata": {
        "colab": {
          "base_uri": "https://localhost:8080/"
        },
        "id": "ed_uqE_3iWR9",
        "outputId": "4b98cb58-0f32-44ae-d858-f018810f3723"
      },
      "execution_count": 12,
      "outputs": [
        {
          "output_type": "stream",
          "name": "stdout",
          "text": [
            "[[96  4 77]\n",
            " [84 58 33]\n",
            " [51 60  5]]\n"
          ]
        }
      ]
    },
    {
      "cell_type": "code",
      "source": [
        "matris =  np.random.randint(10,50,15).reshape(3,5)\n",
        "rowTotal = matris.sum(axis=1)  # satır toplamları\n",
        "columnTotal = matris.sum(axis=0) #sütun toplamları\n",
        "print(rowTotal)\n",
        "print(columnTotal)"
      ],
      "metadata": {
        "colab": {
          "base_uri": "https://localhost:8080/"
        },
        "id": "_83AFso7ja0V",
        "outputId": "ab4bc115-10ef-4f7a-964c-fa3fb0335fcb"
      },
      "execution_count": 13,
      "outputs": [
        {
          "output_type": "stream",
          "name": "stdout",
          "text": [
            "[125 175 138]\n",
            "[113  94  85  82  64]\n"
          ]
        }
      ]
    },
    {
      "cell_type": "code",
      "source": [
        "print(matris.max())\n",
        "print(matris.min())\n",
        "print(matris.mean())"
      ],
      "metadata": {
        "colab": {
          "base_uri": "https://localhost:8080/"
        },
        "id": "dUxnaeDXkFs4",
        "outputId": "81cec3e2-b8d8-42a2-86b7-81eba0867142"
      },
      "execution_count": 14,
      "outputs": [
        {
          "output_type": "stream",
          "name": "stdout",
          "text": [
            "46\n",
            "11\n",
            "29.2\n"
          ]
        }
      ]
    },
    {
      "cell_type": "code",
      "source": [
        "print(matris.argmax())  # index\n",
        "print(matris.argmin())"
      ],
      "metadata": {
        "colab": {
          "base_uri": "https://localhost:8080/"
        },
        "id": "vtVSZ3F0l-rP",
        "outputId": "3659d2b1-1d05-4e5d-c10f-77b9960340c9"
      },
      "execution_count": 15,
      "outputs": [
        {
          "output_type": "stream",
          "name": "stdout",
          "text": [
            "7\n",
            "14\n"
          ]
        }
      ]
    },
    {
      "cell_type": "code",
      "source": [
        "result10 = np.arange(10,20)\n",
        "print(result10)\n",
        "print(result10[:3])   #ilk üç eleman\n",
        "print(result10[::-1]) #elemanları tersten yazdır"
      ],
      "metadata": {
        "colab": {
          "base_uri": "https://localhost:8080/"
        },
        "id": "54WAZhTnmKaq",
        "outputId": "f13882f9-326a-4e9c-ef2d-85626beb3cbc"
      },
      "execution_count": 16,
      "outputs": [
        {
          "output_type": "stream",
          "name": "stdout",
          "text": [
            "[10 11 12 13 14 15 16 17 18 19]\n",
            "[10 11 12]\n",
            "[19 18 17 16 15 14 13 12 11 10]\n"
          ]
        }
      ]
    },
    {
      "cell_type": "code",
      "source": [
        "matris =  np.random.randint(10,50,15).reshape(3,5)\n",
        "print(matris)\n",
        "print(matris[0])  #matrisin ilk satırı\n",
        "print(matris[1 , 2])  # 2.satır ,3.sütundaki eleman\n",
        "print(matris[: , 0])\n",
        "print(matris**2)\n",
        "\n",
        "result11 = matris %2 == 0\n",
        "print(matris [result11])\n",
        "\n",
        "\n",
        "odd = matris [matris %2 == 1]\n",
        "print(odd)\n"
      ],
      "metadata": {
        "colab": {
          "base_uri": "https://localhost:8080/"
        },
        "id": "4ojkWOeTme-e",
        "outputId": "0cbbf049-69e5-466f-ae3a-aa21e7cd836d"
      },
      "execution_count": 17,
      "outputs": [
        {
          "output_type": "stream",
          "name": "stdout",
          "text": [
            "[[19 47 39 39 47]\n",
            " [19 34 46 14 34]\n",
            " [40 46 27 41 18]]\n",
            "[19 47 39 39 47]\n",
            "46\n",
            "[19 19 40]\n",
            "[[ 361 2209 1521 1521 2209]\n",
            " [ 361 1156 2116  196 1156]\n",
            " [1600 2116  729 1681  324]]\n",
            "[34 46 14 34 40 46 18]\n",
            "[19 47 39 39 47 19 27 41]\n"
          ]
        }
      ]
    }
  ]
}