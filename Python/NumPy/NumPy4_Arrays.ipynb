{
  "nbformat": 4,
  "nbformat_minor": 0,
  "metadata": {
    "colab": {
      "provenance": []
    },
    "kernelspec": {
      "name": "python3",
      "display_name": "Python 3"
    },
    "language_info": {
      "name": "python"
    }
  },
  "cells": [
    {
      "cell_type": "code",
      "execution_count": 2,
      "metadata": {
        "id": "nDSp8FrlFiIY"
      },
      "outputs": [],
      "source": [
        "import numpy as np"
      ]
    },
    {
      "cell_type": "code",
      "source": [
        "number1 = np.random.randint(10,100,6)\n",
        "number2 = np.random.randint(10,100,6)\n",
        "print(number1)\n",
        "print(number2)\n",
        "\n",
        "result = number1 + number2\n",
        "print(result)\n",
        "\n",
        "result2 = number1 + 10\n",
        "print(result2)"
      ],
      "metadata": {
        "id": "UsNjQOvaFlyg",
        "colab": {
          "base_uri": "https://localhost:8080/"
        },
        "outputId": "cc3fee78-4c1e-4b29-f6bc-601b3bfea058"
      },
      "execution_count": 3,
      "outputs": [
        {
          "output_type": "stream",
          "name": "stdout",
          "text": [
            "[43 79 49 29 44 72]\n",
            "[63 97 77 55 71 52]\n",
            "[106 176 126  84 115 124]\n",
            "[53 89 59 39 54 82]\n"
          ]
        }
      ]
    },
    {
      "cell_type": "code",
      "source": [
        "print(np.sin(number1))\n",
        "print(np.cos(number1))\n",
        "print(np.sqrt(number1))\n",
        "print(np.log(number1))"
      ],
      "metadata": {
        "colab": {
          "base_uri": "https://localhost:8080/"
        },
        "id": "-axEX7m52AWd",
        "outputId": "25414b98-1ed6-4a5f-a935-9536dd074adb"
      },
      "execution_count": 4,
      "outputs": [
        {
          "output_type": "stream",
          "name": "stdout",
          "text": [
            "[-0.83177474 -0.44411267 -0.95375265 -0.66363388  0.01770193  0.25382336]\n",
            "[ 0.5551133  -0.89597095  0.30059254 -0.74805753  0.99984331 -0.96725059]\n",
            "[6.55743852 8.88819442 7.         5.38516481 6.63324958 8.48528137]\n",
            "[3.76120012 4.36944785 3.8918203  3.36729583 3.78418963 4.27666612]\n"
          ]
        }
      ]
    },
    {
      "cell_type": "code",
      "source": [
        "multinumber1 = np.random.randint(10,100,6)\n",
        "multinumber2 = np.random.randint(10,100,6)\n",
        "print(multinumber1)\n",
        "print(multinumber2)\n",
        "\n",
        "print(multinumber1.reshape(2,3))\n",
        "print(multinumber2.reshape(2,3))"
      ],
      "metadata": {
        "colab": {
          "base_uri": "https://localhost:8080/"
        },
        "id": "guP3gexp26IZ",
        "outputId": "97725db3-7d5f-45e6-98af-021a5df60995"
      },
      "execution_count": 5,
      "outputs": [
        {
          "output_type": "stream",
          "name": "stdout",
          "text": [
            "[41 55 46 77 71 91]\n",
            "[70 70 44 28 70 65]\n",
            "[[41 55 46]\n",
            " [77 71 91]]\n",
            "[[70 70 44]\n",
            " [28 70 65]]\n"
          ]
        }
      ]
    },
    {
      "cell_type": "code",
      "source": [
        "result3 = np.vstack((multinumber1,multinumber2))  # vertical stack creates a 2D array\n",
        "print(result3)"
      ],
      "metadata": {
        "colab": {
          "base_uri": "https://localhost:8080/"
        },
        "id": "VSS-Ahti3q8v",
        "outputId": "a7b08972-c07e-414d-90df-cfa0eb0b50dc"
      },
      "execution_count": 6,
      "outputs": [
        {
          "output_type": "stream",
          "name": "stdout",
          "text": [
            "[[41 55 46 77 71 91]\n",
            " [70 70 44 28 70 65]]\n"
          ]
        }
      ]
    },
    {
      "cell_type": "code",
      "source": [
        "result4 = np.hstack((multinumber1,multinumber2))  # horizontal stack creates a single 1D array\n",
        "print(result4)"
      ],
      "metadata": {
        "colab": {
          "base_uri": "https://localhost:8080/"
        },
        "id": "N7vsSGn64kag",
        "outputId": "4ecd0a84-638f-4d2f-fa0d-cbd8db7b2132"
      },
      "execution_count": 7,
      "outputs": [
        {
          "output_type": "stream",
          "name": "stdout",
          "text": [
            "[41 55 46 77 71 91 70 70 44 28 70 65]\n"
          ]
        }
      ]
    },
    {
      "cell_type": "code",
      "source": [
        "result5 = multinumber1 % 2 ==0\n",
        "print(result5)"
      ],
      "metadata": {
        "colab": {
          "base_uri": "https://localhost:8080/"
        },
        "id": "WbrnNK5F4q2V",
        "outputId": "3c2ce18e-6d58-4ef2-c699-0199316d1f08"
      },
      "execution_count": 8,
      "outputs": [
        {
          "output_type": "stream",
          "name": "stdout",
          "text": [
            "[False False  True False False False]\n"
          ]
        }
      ]
    },
    {
      "cell_type": "code",
      "source": [
        "result6 = multinumber1 >=50\n",
        "print(result6)"
      ],
      "metadata": {
        "colab": {
          "base_uri": "https://localhost:8080/"
        },
        "id": "PHskoeM16-ZW",
        "outputId": "243e2102-a1ee-432e-df67-f05b1ddb83ce"
      },
      "execution_count": 9,
      "outputs": [
        {
          "output_type": "stream",
          "name": "stdout",
          "text": [
            "[False  True False  True  True  True]\n"
          ]
        }
      ]
    },
    {
      "cell_type": "code",
      "source": [
        "print(multinumber1[result5])  # multinumber1 için result5 değerlerini yazdırır"
      ],
      "metadata": {
        "colab": {
          "base_uri": "https://localhost:8080/"
        },
        "id": "bdohEteN7Ec1",
        "outputId": "c8370026-dfda-4327-da08-15835317b7e2"
      },
      "execution_count": 10,
      "outputs": [
        {
          "output_type": "stream",
          "name": "stdout",
          "text": [
            "[46]\n"
          ]
        }
      ]
    },
    {
      "cell_type": "code",
      "source": [
        "print(multinumber1[result6])"
      ],
      "metadata": {
        "colab": {
          "base_uri": "https://localhost:8080/"
        },
        "id": "IUCacIEF7ez2",
        "outputId": "ca22ff5a-e34c-42c3-d18e-521e120ce229"
      },
      "execution_count": 11,
      "outputs": [
        {
          "output_type": "stream",
          "name": "stdout",
          "text": [
            "[55 77 71 91]\n"
          ]
        }
      ]
    }
  ]
}