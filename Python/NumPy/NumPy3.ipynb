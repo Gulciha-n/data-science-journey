{
  "nbformat": 4,
  "nbformat_minor": 0,
  "metadata": {
    "colab": {
      "provenance": []
    },
    "kernelspec": {
      "name": "python3",
      "display_name": "Python 3"
    },
    "language_info": {
      "name": "python"
    }
  },
  "cells": [
    {
      "cell_type": "code",
      "execution_count": 1,
      "metadata": {
        "id": "ooenih7ujmU3"
      },
      "outputs": [],
      "source": [
        "import numpy as np"
      ]
    },
    {
      "cell_type": "code",
      "source": [
        "np_array = np.array([0,5,10,15,20,25,50,75])"
      ],
      "metadata": {
        "id": "nS3QCZjv8CEo"
      },
      "execution_count": 2,
      "outputs": []
    },
    {
      "cell_type": "code",
      "source": [
        "print(np_array[4])"
      ],
      "metadata": {
        "colab": {
          "base_uri": "https://localhost:8080/"
        },
        "id": "naA1jl0W8LVp",
        "outputId": "1a1577be-f96e-4a43-f0f7-1619783e7cc0"
      },
      "execution_count": 3,
      "outputs": [
        {
          "output_type": "stream",
          "name": "stdout",
          "text": [
            "20\n"
          ]
        }
      ]
    },
    {
      "cell_type": "code",
      "source": [
        "print(np_array[0:3])\n",
        "print(np_array[:3])\n",
        "print(np_array[3:])\n",
        "print(np_array[::])\n",
        "print(np_array[::-1])\n",
        "print(np_array[::-2])"
      ],
      "metadata": {
        "colab": {
          "base_uri": "https://localhost:8080/"
        },
        "id": "eNl5H3yW8WVo",
        "outputId": "30d1e436-a390-40d3-d320-b9df45a8aeba"
      },
      "execution_count": 4,
      "outputs": [
        {
          "output_type": "stream",
          "name": "stdout",
          "text": [
            "[ 0  5 10]\n",
            "[ 0  5 10]\n",
            "[15 20 25 50 75]\n",
            "[ 0  5 10 15 20 25 50 75]\n",
            "[75 50 25 20 15 10  5  0]\n",
            "[75 25 15  5]\n"
          ]
        }
      ]
    },
    {
      "cell_type": "code",
      "source": [
        "np_array2 = np.array([[0,5,10],[15,20,25],[50,75,85]])\n",
        "print(np_array2[0])\n",
        "print(np_array2[1])\n",
        "print(np_array2[2])\n",
        "print(np_array2[0 , 2])\n",
        "print(np_array2[1 , 1])\n",
        "print(np_array2[2 , 2])\n",
        "print(np_array2[:])      # tüm satırlar\n",
        "print(np_array2[: ,2])   # tüm satırlardaki 2.index elemanları [10,25,85]\n",
        "print(np_array2[: ,0])   # tüm satırlardaki 0.index elemanları [0,15,50]\n",
        "print(np_array2[: ,0:2]) # tüm satırlardaki 0 ile 1.index elemanları\n",
        "print(np_array2[2 , :])  # 2.satırdaki tüm elemanlar [50 75 85]\n",
        "print(np_array2[:2 , :2])\n",
        "print(np_array2[:1 , :2])"
      ],
      "metadata": {
        "colab": {
          "base_uri": "https://localhost:8080/"
        },
        "id": "Xp0XaSXI8yNu",
        "outputId": "c05f8632-30eb-4004-832b-02a2fa47c425"
      },
      "execution_count": 5,
      "outputs": [
        {
          "output_type": "stream",
          "name": "stdout",
          "text": [
            "[ 0  5 10]\n",
            "[15 20 25]\n",
            "[50 75 85]\n",
            "10\n",
            "20\n",
            "85\n",
            "[[ 0  5 10]\n",
            " [15 20 25]\n",
            " [50 75 85]]\n",
            "[10 25 85]\n",
            "[ 0 15 50]\n",
            "[[ 0  5]\n",
            " [15 20]\n",
            " [50 75]]\n",
            "[50 75 85]\n",
            "[[ 0  5]\n",
            " [15 20]]\n",
            "[[0 5]]\n"
          ]
        }
      ]
    },
    {
      "cell_type": "code",
      "source": [
        "arr1 = np.arange(0,10)\n",
        "arr2 = arr1  #aynı adresi gösteren iki farklı değer (referans kopyalaması)"
      ],
      "metadata": {
        "id": "tINsTvEi9cd7"
      },
      "execution_count": 6,
      "outputs": []
    },
    {
      "cell_type": "code",
      "source": [
        "print(arr1)\n",
        "print(arr2)"
      ],
      "metadata": {
        "colab": {
          "base_uri": "https://localhost:8080/"
        },
        "id": "OAcReaI0C-lg",
        "outputId": "54f3779c-b0e9-46a2-f50d-e0102a76f455"
      },
      "execution_count": 7,
      "outputs": [
        {
          "output_type": "stream",
          "name": "stdout",
          "text": [
            "[0 1 2 3 4 5 6 7 8 9]\n",
            "[0 1 2 3 4 5 6 7 8 9]\n"
          ]
        }
      ]
    },
    {
      "cell_type": "code",
      "source": [
        "arr1[0] = 20\n",
        "print(arr1)\n",
        "print(arr2)"
      ],
      "metadata": {
        "colab": {
          "base_uri": "https://localhost:8080/"
        },
        "id": "zaiuzd7KDPbi",
        "outputId": "51a70b15-5893-428f-e811-986c6b3b5af8"
      },
      "execution_count": 8,
      "outputs": [
        {
          "output_type": "stream",
          "name": "stdout",
          "text": [
            "[20  1  2  3  4  5  6  7  8  9]\n",
            "[20  1  2  3  4  5  6  7  8  9]\n"
          ]
        }
      ]
    },
    {
      "cell_type": "code",
      "source": [
        "arr3 = np.arange(0,10)\n",
        "arr4 = arr3.copy()   # arr3 ve kopyası olan arr4 için farklı adresler oluşturulur\n",
        "print(arr3)\n",
        "print(arr4)\n",
        "\n",
        "arr3[0] = 20\n",
        "print(arr3)\n",
        "print(arr4)\n",
        "\n",
        "arr4[0] = 30\n",
        "print(arr3)\n",
        "print(arr4)"
      ],
      "metadata": {
        "colab": {
          "base_uri": "https://localhost:8080/"
        },
        "id": "uAZXfEPgDlAR",
        "outputId": "f53b7b80-4e05-48de-9b36-a0dc496d8298"
      },
      "execution_count": 9,
      "outputs": [
        {
          "output_type": "stream",
          "name": "stdout",
          "text": [
            "[0 1 2 3 4 5 6 7 8 9]\n",
            "[0 1 2 3 4 5 6 7 8 9]\n",
            "[20  1  2  3  4  5  6  7  8  9]\n",
            "[0 1 2 3 4 5 6 7 8 9]\n",
            "[20  1  2  3  4  5  6  7  8  9]\n",
            "[30  1  2  3  4  5  6  7  8  9]\n"
          ]
        }
      ]
    }
  ]
}