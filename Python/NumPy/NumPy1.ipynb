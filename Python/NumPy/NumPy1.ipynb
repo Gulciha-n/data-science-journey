{
  "nbformat": 4,
  "nbformat_minor": 0,
  "metadata": {
    "colab": {
      "provenance": []
    },
    "kernelspec": {
      "name": "python3",
      "display_name": "Python 3"
    },
    "language_info": {
      "name": "python"
    }
  },
  "cells": [
    {
      "cell_type": "code",
      "execution_count": 63,
      "metadata": {
        "id": "l6OplB868xPb"
      },
      "outputs": [],
      "source": [
        "import numpy as np"
      ]
    },
    {
      "cell_type": "code",
      "source": [
        "#python list\n",
        "list1 = [1,2,3,4,5,6]"
      ],
      "metadata": {
        "id": "nJarII3PSRGs"
      },
      "execution_count": 64,
      "outputs": []
    },
    {
      "cell_type": "code",
      "source": [
        "#numpy array\n",
        "np_array = np.array([1,2,3,4,5,6])"
      ],
      "metadata": {
        "id": "asgkYc7e9I2P"
      },
      "execution_count": 65,
      "outputs": []
    },
    {
      "cell_type": "code",
      "source": [
        "scaler = np.array(90)\n",
        "print(scaler)"
      ],
      "metadata": {
        "id": "B5yZlCOm-CiR",
        "colab": {
          "base_uri": "https://localhost:8080/"
        },
        "outputId": "fd73f7f6-a675-47ce-bf2e-7c3cbc9f398e"
      },
      "execution_count": 66,
      "outputs": [
        {
          "output_type": "stream",
          "name": "stdout",
          "text": [
            "90\n"
          ]
        }
      ]
    },
    {
      "cell_type": "code",
      "source": [
        "vector = np.array([1,2,3,4,5,6])\n",
        "print(vector)"
      ],
      "metadata": {
        "colab": {
          "base_uri": "https://localhost:8080/"
        },
        "id": "zfTq2M18jxkv",
        "outputId": "10cf1ab3-b820-411a-80ef-e4b54be7a80f"
      },
      "execution_count": 67,
      "outputs": [
        {
          "output_type": "stream",
          "name": "stdout",
          "text": [
            "[1 2 3 4 5 6]\n"
          ]
        }
      ]
    },
    {
      "cell_type": "code",
      "source": [
        "matris = np.array([[[1,2,3],[4,5,6],[7,8,9]]])\n",
        "print(matris)"
      ],
      "metadata": {
        "colab": {
          "base_uri": "https://localhost:8080/"
        },
        "id": "SA8CfDGTj5gz",
        "outputId": "1ac2c36b-dac6-4e22-9e2f-826ee981c377"
      },
      "execution_count": 68,
      "outputs": [
        {
          "output_type": "stream",
          "name": "stdout",
          "text": [
            "[[[1 2 3]\n",
            "  [4 5 6]\n",
            "  [7 8 9]]]\n"
          ]
        }
      ]
    },
    {
      "cell_type": "code",
      "source": [
        "py_multi = [[1,2,3],[4,5,6],[7,8,9]]\n",
        "np_multi = np_array.reshape(2,3)\n",
        "print(py_multi)\n",
        "print(np_multi)"
      ],
      "metadata": {
        "colab": {
          "base_uri": "https://localhost:8080/"
        },
        "id": "9uXYI0wMUckg",
        "outputId": "1a5015d2-c179-4929-96bd-f676dd2c6646"
      },
      "execution_count": 69,
      "outputs": [
        {
          "output_type": "stream",
          "name": "stdout",
          "text": [
            "[[1, 2, 3], [4, 5, 6], [7, 8, 9]]\n",
            "[[1 2 3]\n",
            " [4 5 6]]\n"
          ]
        }
      ]
    },
    {
      "cell_type": "code",
      "source": [
        "print(np_array.ndim)   #ndim : number of dimensions\n",
        "print(np_multi.ndim)"
      ],
      "metadata": {
        "colab": {
          "base_uri": "https://localhost:8080/"
        },
        "id": "6nzlSNbJWCSb",
        "outputId": "7fe115b4-922b-4484-848d-e6f804a1af8d"
      },
      "execution_count": 70,
      "outputs": [
        {
          "output_type": "stream",
          "name": "stdout",
          "text": [
            "1\n",
            "2\n"
          ]
        }
      ]
    },
    {
      "cell_type": "code",
      "source": [
        "print(np_array.shape)\n",
        "print(np_multi.shape)"
      ],
      "metadata": {
        "colab": {
          "base_uri": "https://localhost:8080/"
        },
        "id": "q7YYC3TvWc_q",
        "outputId": "5703c614-5381-4fb7-e172-5269a91461f2"
      },
      "execution_count": 71,
      "outputs": [
        {
          "output_type": "stream",
          "name": "stdout",
          "text": [
            "(6,)\n",
            "(2, 3)\n"
          ]
        }
      ]
    },
    {
      "cell_type": "code",
      "source": [
        "tensor = np.array([[[[4,7,8],[4,5,6]] , [[4,7,8],[4,5,6]] , [[4,7,8],[4,5,6]] ]])\n",
        "print(tensor)"
      ],
      "metadata": {
        "colab": {
          "base_uri": "https://localhost:8080/"
        },
        "id": "4IUkloE9kIfc",
        "outputId": "5cf860f5-36ad-4fd9-b3e4-697fa85a5fab"
      },
      "execution_count": 72,
      "outputs": [
        {
          "output_type": "stream",
          "name": "stdout",
          "text": [
            "[[[[4 7 8]\n",
            "   [4 5 6]]\n",
            "\n",
            "  [[4 7 8]\n",
            "   [4 5 6]]\n",
            "\n",
            "  [[4 7 8]\n",
            "   [4 5 6]]]]\n"
          ]
        }
      ]
    },
    {
      "cell_type": "code",
      "source": [
        "import time"
      ],
      "metadata": {
        "id": "hG0-pIZdkWtk"
      },
      "execution_count": 73,
      "outputs": []
    },
    {
      "cell_type": "code",
      "source": [
        "t1 = time.time()\n",
        "\n",
        "list1 = []\n",
        "for a in range(100000):\n",
        "  list1.append(a**20)\n",
        "\n",
        "t2 = time.time()\n",
        "print(t2-t1)"
      ],
      "metadata": {
        "colab": {
          "base_uri": "https://localhost:8080/"
        },
        "id": "hCsRtBfLmsDh",
        "outputId": "37fa2b69-45e4-4749-bd61-7e26d5f4ff6e"
      },
      "execution_count": 74,
      "outputs": [
        {
          "output_type": "stream",
          "name": "stdout",
          "text": [
            "0.07680320739746094\n"
          ]
        }
      ]
    },
    {
      "cell_type": "markdown",
      "source": [],
      "metadata": {
        "id": "HerCMBvWmqn4"
      }
    },
    {
      "cell_type": "code",
      "source": [
        "t3 = time.time()\n",
        "\n",
        "list2 = np.arange(100000)**2\n",
        "\n",
        "t4 = time.time()\n",
        "\n",
        "print(t4-t3)"
      ],
      "metadata": {
        "colab": {
          "base_uri": "https://localhost:8080/"
        },
        "id": "UNIMUFi7ncpj",
        "outputId": "8e288e85-2f3d-404a-a7eb-4d7d6d124d30"
      },
      "execution_count": 75,
      "outputs": [
        {
          "output_type": "stream",
          "name": "stdout",
          "text": [
            "0.001829385757446289\n"
          ]
        }
      ]
    },
    {
      "cell_type": "markdown",
      "source": [
        "## **Index - Slice**"
      ],
      "metadata": {
        "id": "jNAWxnAXP38_"
      }
    },
    {
      "cell_type": "code",
      "source": [
        "vector2 = np.array([1,2,3,4,5,6,7,8,9])"
      ],
      "metadata": {
        "id": "pRD4h2MQn47w"
      },
      "execution_count": 76,
      "outputs": []
    },
    {
      "cell_type": "code",
      "source": [
        "vector2[0]"
      ],
      "metadata": {
        "colab": {
          "base_uri": "https://localhost:8080/"
        },
        "id": "r1koIqCCPDFD",
        "outputId": "9567ee28-6c3b-42ac-aaff-1dff70022a63"
      },
      "execution_count": 77,
      "outputs": [
        {
          "output_type": "execute_result",
          "data": {
            "text/plain": [
              "1"
            ]
          },
          "metadata": {},
          "execution_count": 77
        }
      ]
    },
    {
      "cell_type": "code",
      "source": [
        "vector2[-1]"
      ],
      "metadata": {
        "colab": {
          "base_uri": "https://localhost:8080/"
        },
        "id": "5pM67PHTPGiz",
        "outputId": "987e601d-d371-4ebd-8c7e-3f6f6e351d62"
      },
      "execution_count": 78,
      "outputs": [
        {
          "output_type": "execute_result",
          "data": {
            "text/plain": [
              "9"
            ]
          },
          "metadata": {},
          "execution_count": 78
        }
      ]
    },
    {
      "cell_type": "code",
      "source": [
        "vector2[1:5]"
      ],
      "metadata": {
        "colab": {
          "base_uri": "https://localhost:8080/"
        },
        "id": "Pn0moMFlPR4c",
        "outputId": "2bb3c045-7faf-4044-f5c7-3d0ad40ccf33"
      },
      "execution_count": 79,
      "outputs": [
        {
          "output_type": "execute_result",
          "data": {
            "text/plain": [
              "array([2, 3, 4, 5])"
            ]
          },
          "metadata": {},
          "execution_count": 79
        }
      ]
    },
    {
      "cell_type": "code",
      "source": [
        "vector2[:5]"
      ],
      "metadata": {
        "colab": {
          "base_uri": "https://localhost:8080/"
        },
        "id": "7NQATJhMPe7R",
        "outputId": "d0506dcf-7d34-47d7-9abc-7d6a2c3364fa"
      },
      "execution_count": 80,
      "outputs": [
        {
          "output_type": "execute_result",
          "data": {
            "text/plain": [
              "array([1, 2, 3, 4, 5])"
            ]
          },
          "metadata": {},
          "execution_count": 80
        }
      ]
    },
    {
      "cell_type": "code",
      "source": [
        "vector2[2:4]"
      ],
      "metadata": {
        "colab": {
          "base_uri": "https://localhost:8080/"
        },
        "id": "MOHtzh06PlYz",
        "outputId": "f487b7ed-806d-4845-ca71-9e3eb8d94d22"
      },
      "execution_count": 81,
      "outputs": [
        {
          "output_type": "execute_result",
          "data": {
            "text/plain": [
              "array([3, 4])"
            ]
          },
          "metadata": {},
          "execution_count": 81
        }
      ]
    },
    {
      "cell_type": "code",
      "source": [
        "vector2[0:8:2]"
      ],
      "metadata": {
        "colab": {
          "base_uri": "https://localhost:8080/"
        },
        "id": "Ppc_PQg9Pp53",
        "outputId": "d3f65f84-3de0-4e8b-9ee1-a79036320192"
      },
      "execution_count": 82,
      "outputs": [
        {
          "output_type": "execute_result",
          "data": {
            "text/plain": [
              "array([1, 3, 5, 7])"
            ]
          },
          "metadata": {},
          "execution_count": 82
        }
      ]
    }
  ]
}