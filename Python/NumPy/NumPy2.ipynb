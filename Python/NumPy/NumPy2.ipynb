{
  "nbformat": 4,
  "nbformat_minor": 0,
  "metadata": {
    "colab": {
      "provenance": []
    },
    "kernelspec": {
      "name": "python3",
      "display_name": "Python 3"
    },
    "language_info": {
      "name": "python"
    }
  },
  "cells": [
    {
      "cell_type": "code",
      "execution_count": 17,
      "metadata": {
        "id": "T3wys2dpXRo8"
      },
      "outputs": [],
      "source": [
        "import numpy as np"
      ]
    },
    {
      "cell_type": "code",
      "source": [
        "result = np.array([1,3,5,7,9])\n",
        "print(result)"
      ],
      "metadata": {
        "colab": {
          "base_uri": "https://localhost:8080/"
        },
        "id": "rANJuip-XbHM",
        "outputId": "e793638e-d89c-4ab1-e2fd-eb2d58be90e9"
      },
      "execution_count": 18,
      "outputs": [
        {
          "output_type": "stream",
          "name": "stdout",
          "text": [
            "[1 3 5 7 9]\n"
          ]
        }
      ]
    },
    {
      "cell_type": "code",
      "source": [
        "result1 = np.arange(1,10)  #listeyi otomatik olarak oluşturur,yazmamıza gerek kalmaz\n",
        "print(result1)"
      ],
      "metadata": {
        "colab": {
          "base_uri": "https://localhost:8080/"
        },
        "id": "zzc1DT9KXoqR",
        "outputId": "03e20418-293b-4084-8166-0959458a1610"
      },
      "execution_count": 19,
      "outputs": [
        {
          "output_type": "stream",
          "name": "stdout",
          "text": [
            "[1 2 3 4 5 6 7 8 9]\n"
          ]
        }
      ]
    },
    {
      "cell_type": "code",
      "source": [
        "result2 = np.arange(10,100,3)\n",
        "print(result2)"
      ],
      "metadata": {
        "colab": {
          "base_uri": "https://localhost:8080/"
        },
        "id": "pbsr93elX2Yu",
        "outputId": "f9467d6b-bf0f-4c6f-f58f-60f23ed2023c"
      },
      "execution_count": 20,
      "outputs": [
        {
          "output_type": "stream",
          "name": "stdout",
          "text": [
            "[10 13 16 19 22 25 28 31 34 37 40 43 46 49 52 55 58 61 64 67 70 73 76 79\n",
            " 82 85 88 91 94 97]\n"
          ]
        }
      ]
    },
    {
      "cell_type": "code",
      "source": [
        "result3 = np.zeros(10)  #float\n",
        "print(result3)"
      ],
      "metadata": {
        "colab": {
          "base_uri": "https://localhost:8080/"
        },
        "id": "IFkwDjlKYFeG",
        "outputId": "46a3eb0a-2354-47a0-8cfb-37b536167a45"
      },
      "execution_count": 21,
      "outputs": [
        {
          "output_type": "stream",
          "name": "stdout",
          "text": [
            "[0. 0. 0. 0. 0. 0. 0. 0. 0. 0.]\n"
          ]
        }
      ]
    },
    {
      "cell_type": "code",
      "source": [
        "result4 = np.ones(10)   #float\n",
        "print(result4)"
      ],
      "metadata": {
        "colab": {
          "base_uri": "https://localhost:8080/"
        },
        "id": "ih5qQ32TYbjI",
        "outputId": "6f8874db-1fda-41da-94ef-0fded61f2ae3"
      },
      "execution_count": 22,
      "outputs": [
        {
          "output_type": "stream",
          "name": "stdout",
          "text": [
            "[1. 1. 1. 1. 1. 1. 1. 1. 1. 1.]\n"
          ]
        }
      ]
    },
    {
      "cell_type": "code",
      "source": [
        "#belli bir aralıkta ve eşit artışa sahip bir dizi : linspace(linear space)\n",
        "result5 = np.linspace(0,100,5)\n",
        "print(result5)"
      ],
      "metadata": {
        "colab": {
          "base_uri": "https://localhost:8080/"
        },
        "id": "y9q9k5LBYjIn",
        "outputId": "38fca30c-7b91-4b9c-dab9-0e5d740ed52c"
      },
      "execution_count": 23,
      "outputs": [
        {
          "output_type": "stream",
          "name": "stdout",
          "text": [
            "[  0.  25.  50.  75. 100.]\n"
          ]
        }
      ]
    },
    {
      "cell_type": "code",
      "source": [
        "result6 = np.random.randint(1,10)\n",
        "print(result6)"
      ],
      "metadata": {
        "colab": {
          "base_uri": "https://localhost:8080/"
        },
        "id": "iqkSyZerZAVh",
        "outputId": "9ad4a1bd-79c2-42d7-e0b4-8aa6b17f4fb9"
      },
      "execution_count": 24,
      "outputs": [
        {
          "output_type": "stream",
          "name": "stdout",
          "text": [
            "7\n"
          ]
        }
      ]
    },
    {
      "cell_type": "code",
      "source": [
        "result7 = np.random.randint(20)  # 0 - 20\n",
        "print(result7)"
      ],
      "metadata": {
        "colab": {
          "base_uri": "https://localhost:8080/"
        },
        "id": "YewFGEe7fk4d",
        "outputId": "50c838aa-b5ad-4e82-8c7e-52208d7d8de6"
      },
      "execution_count": 25,
      "outputs": [
        {
          "output_type": "stream",
          "name": "stdout",
          "text": [
            "16\n"
          ]
        }
      ]
    },
    {
      "cell_type": "code",
      "source": [
        "result8 = np.random.randint(0,10,3)  # 0 - 20\n",
        "print(result8)"
      ],
      "metadata": {
        "colab": {
          "base_uri": "https://localhost:8080/"
        },
        "id": "F3tAXDvEf4TE",
        "outputId": "cc512df0-b5a3-45d8-a3cf-df81ad2e258d"
      },
      "execution_count": 26,
      "outputs": [
        {
          "output_type": "stream",
          "name": "stdout",
          "text": [
            "[0 2 6]\n"
          ]
        }
      ]
    },
    {
      "cell_type": "code",
      "source": [
        "result9 = np.random.rand(5)  # between 0 and 1\n",
        "print(result9)"
      ],
      "metadata": {
        "colab": {
          "base_uri": "https://localhost:8080/"
        },
        "id": "Jd6LU-dqf-l8",
        "outputId": "99c06016-7f87-4b4f-e450-c0ba176913d9"
      },
      "execution_count": 27,
      "outputs": [
        {
          "output_type": "stream",
          "name": "stdout",
          "text": [
            "[0.56571577 0.06963334 0.5559539  0.52159773 0.53949089]\n"
          ]
        }
      ]
    },
    {
      "cell_type": "code",
      "source": [
        "result10 = np.random.randn(5)  # between 0-1  +  negative numbers\n",
        "print(result10)"
      ],
      "metadata": {
        "colab": {
          "base_uri": "https://localhost:8080/"
        },
        "id": "6o945hiIgTkg",
        "outputId": "bb105ad8-93b2-4f05-c609-bc3a8e82bb57"
      },
      "execution_count": 28,
      "outputs": [
        {
          "output_type": "stream",
          "name": "stdout",
          "text": [
            "[ 0.5762501  -0.89764255 -0.10646805 -1.32157625 -0.46644634]\n"
          ]
        }
      ]
    },
    {
      "cell_type": "code",
      "source": [
        "np_array = np.arange(50)\n",
        "print(np_array)\n",
        "np_multi = np_array.reshape(5,10)     # 5 row , 10 column\n",
        "print(np_multi)"
      ],
      "metadata": {
        "colab": {
          "base_uri": "https://localhost:8080/"
        },
        "id": "Lw9XuQ42gh9f",
        "outputId": "745b9d68-3ada-42d4-b800-b45ac9fef36f"
      },
      "execution_count": 29,
      "outputs": [
        {
          "output_type": "stream",
          "name": "stdout",
          "text": [
            "[ 0  1  2  3  4  5  6  7  8  9 10 11 12 13 14 15 16 17 18 19 20 21 22 23\n",
            " 24 25 26 27 28 29 30 31 32 33 34 35 36 37 38 39 40 41 42 43 44 45 46 47\n",
            " 48 49]\n",
            "[[ 0  1  2  3  4  5  6  7  8  9]\n",
            " [10 11 12 13 14 15 16 17 18 19]\n",
            " [20 21 22 23 24 25 26 27 28 29]\n",
            " [30 31 32 33 34 35 36 37 38 39]\n",
            " [40 41 42 43 44 45 46 47 48 49]]\n"
          ]
        }
      ]
    },
    {
      "cell_type": "code",
      "source": [
        "print(np_multi.sum(axis=1))  #sum of rows"
      ],
      "metadata": {
        "colab": {
          "base_uri": "https://localhost:8080/"
        },
        "id": "t-wxX-QjhMfc",
        "outputId": "57dca3e5-cca8-4163-aaf6-7302a9851112"
      },
      "execution_count": 30,
      "outputs": [
        {
          "output_type": "stream",
          "name": "stdout",
          "text": [
            "[ 45 145 245 345 445]\n"
          ]
        }
      ]
    },
    {
      "cell_type": "code",
      "source": [
        "print(np_multi.sum(axis=0))  #sum of columns"
      ],
      "metadata": {
        "colab": {
          "base_uri": "https://localhost:8080/"
        },
        "id": "UUH_CfePhxOS",
        "outputId": "64959269-285d-43ed-fc05-082f31240348"
      },
      "execution_count": 31,
      "outputs": [
        {
          "output_type": "stream",
          "name": "stdout",
          "text": [
            "[100 105 110 115 120 125 130 135 140 145]\n"
          ]
        }
      ]
    },
    {
      "cell_type": "code",
      "source": [
        "rnd_numbers = np.random.randint(0,10,5)\n",
        "print(rnd_numbers)\n",
        "\n",
        "print(rnd_numbers.max())\n",
        "print(rnd_numbers.min())\n",
        "print(rnd_numbers.mean())\n",
        "print(rnd_numbers.argmax())  #Argument of the Maximum (index)\n",
        "print(rnd_numbers.argmin())  #Argument of the Minimum (index)"
      ],
      "metadata": {
        "colab": {
          "base_uri": "https://localhost:8080/"
        },
        "id": "H6sk9GrfhzlC",
        "outputId": "3d67df18-fcba-4e44-ce07-8bf516a07180"
      },
      "execution_count": 32,
      "outputs": [
        {
          "output_type": "stream",
          "name": "stdout",
          "text": [
            "[7 2 1 2 5]\n",
            "7\n",
            "1\n",
            "3.4\n",
            "0\n",
            "2\n"
          ]
        }
      ]
    }
  ]
}