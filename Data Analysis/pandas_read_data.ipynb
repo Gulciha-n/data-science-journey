{
  "nbformat": 4,
  "nbformat_minor": 0,
  "metadata": {
    "colab": {
      "provenance": []
    },
    "kernelspec": {
      "name": "python3",
      "display_name": "Python 3"
    },
    "language_info": {
      "name": "python"
    }
  },
  "cells": [
    {
      "cell_type": "code",
      "execution_count": 1,
      "metadata": {
        "id": "z6lLSaLLmWXs",
        "colab": {
          "base_uri": "https://localhost:8080/"
        },
        "outputId": "91e804a6-03bf-4f62-b97e-d0d189f1667e"
      },
      "outputs": [
        {
          "output_type": "stream",
          "name": "stdout",
          "text": [
            "Drive already mounted at /content/gdrive; to attempt to forcibly remount, call drive.mount(\"/content/gdrive\", force_remount=True).\n"
          ]
        }
      ],
      "source": [
        "from google.colab import drive\n",
        "drive.mount(\"/content/gdrive\")"
      ]
    },
    {
      "cell_type": "code",
      "source": [
        "import pandas as pd"
      ],
      "metadata": {
        "id": "75R57_2Fm6Ac"
      },
      "execution_count": 2,
      "outputs": []
    },
    {
      "cell_type": "code",
      "source": [
        "df = pd.read_excel('/content/gdrive/MyDrive/Colab Notebooks/NBA Team Annual Attendance.xlsx')\n",
        "print(df)"
      ],
      "metadata": {
        "colab": {
          "base_uri": "https://localhost:8080/"
        },
        "id": "9lpMQiI3btqK",
        "outputId": "3dfe9941-14f6-404b-92e7-7095eb6201d2"
      },
      "execution_count": 3,
      "outputs": [
        {
          "output_type": "stream",
          "name": "stdout",
          "text": [
            "     Starting Year  Rank       Team  Home: Total Games  \\\n",
            "0             2015     1      Bulls                 41   \n",
            "1             2015     2  Cavaliers                 41   \n",
            "2             2015     3  Mavericks                 41   \n",
            "3             2015     4    Raptors                 41   \n",
            "4             2015     5  NY Knicks                 41   \n",
            "..             ...   ...        ...                ...   \n",
            "471           2000    25   Warriors                 41   \n",
            "472           2000    26       Nets                 41   \n",
            "473           2000    27  Grizzlies                 41   \n",
            "474           2000    28      Hawks                 41   \n",
            "475           2000    29    Rockets                 41   \n",
            "\n",
            "     Home: Total Attendance  Home: Avg Attendance Home: % Capactiy  \\\n",
            "0                    894659                 21820            104.3   \n",
            "1                    843042                 20562              100   \n",
            "2                    825901                 20143            104.9   \n",
            "3                    812863                 19825            100.1   \n",
            "4                    812292                 19812              100   \n",
            "..                      ...                   ...              ...   \n",
            "471                  591981                 14438               --   \n",
            "472                  566077                 13806               --   \n",
            "473                  563218                 13737               --   \n",
            "474                  560324                 13666               --   \n",
            "475                  518555                 12647               --   \n",
            "\n",
            "     Away: Total Games  Away: Total Attendance Away: Avg Attendance  \\\n",
            "0                   41                   18156                 94.5   \n",
            "1                   41                   18910                 98.2   \n",
            "2                   41                   17727                 93.4   \n",
            "3                   41                   17162                 89.2   \n",
            "4                   41                   18440                   96   \n",
            "..                 ...                     ...                  ...   \n",
            "471                 41                   16058                   --   \n",
            "472                 41                   16085                   --   \n",
            "473                 41                   15822                   --   \n",
            "474                 41                   16403                   --   \n",
            "475                 41                   16714                   --   \n",
            "\n",
            "     Away: % Capactiy  \n",
            "0                  82  \n",
            "1                  82  \n",
            "2                  82  \n",
            "3                  82  \n",
            "4                  82  \n",
            "..                ...  \n",
            "471                82  \n",
            "472                82  \n",
            "473                82  \n",
            "474                82  \n",
            "475                82  \n",
            "\n",
            "[476 rows x 11 columns]\n"
          ]
        }
      ]
    },
    {
      "cell_type": "code",
      "source": [
        "df = pd.read_csv(\"/content/gdrive/MyDrive/Colab Notebooks/Thyroid_Diff.csv\")\n",
        "print(df)"
      ],
      "metadata": {
        "colab": {
          "base_uri": "https://localhost:8080/"
        },
        "id": "F0YsP-eRb1k9",
        "outputId": "c115800a-77fb-4c3e-f334-efc43208b603"
      },
      "execution_count": 4,
      "outputs": [
        {
          "output_type": "stream",
          "name": "stdout",
          "text": [
            "     Age Gender Smoking Hx Smoking Hx Radiothreapy          Thyroid Function  \\\n",
            "0     27      F      No         No              No                 Euthyroid   \n",
            "1     34      F      No        Yes              No                 Euthyroid   \n",
            "2     30      F      No         No              No                 Euthyroid   \n",
            "3     62      F      No         No              No                 Euthyroid   \n",
            "4     62      F      No         No              No                 Euthyroid   \n",
            "..   ...    ...     ...        ...             ...                       ...   \n",
            "378   72      M     Yes        Yes             Yes                 Euthyroid   \n",
            "379   81      M     Yes         No             Yes                 Euthyroid   \n",
            "380   72      M     Yes        Yes              No                 Euthyroid   \n",
            "381   61      M     Yes        Yes             Yes  Clinical Hyperthyroidism   \n",
            "382   67      M     Yes         No              No                 Euthyroid   \n",
            "\n",
            "            Physical Examination Adenopathy       Pathology     Focality  \\\n",
            "0     Single nodular goiter-left         No  Micropapillary    Uni-Focal   \n",
            "1            Multinodular goiter         No  Micropapillary    Uni-Focal   \n",
            "2    Single nodular goiter-right         No  Micropapillary    Uni-Focal   \n",
            "3    Single nodular goiter-right         No  Micropapillary    Uni-Focal   \n",
            "4            Multinodular goiter         No  Micropapillary  Multi-Focal   \n",
            "..                           ...        ...             ...          ...   \n",
            "378  Single nodular goiter-right      Right       Papillary    Uni-Focal   \n",
            "379          Multinodular goiter  Extensive       Papillary  Multi-Focal   \n",
            "380          Multinodular goiter  Bilateral       Papillary  Multi-Focal   \n",
            "381          Multinodular goiter  Extensive    Hurthel cell  Multi-Focal   \n",
            "382          Multinodular goiter  Bilateral       Papillary  Multi-Focal   \n",
            "\n",
            "     Risk    T    N   M Stage                Response Recurred  \n",
            "0     Low  T1a   N0  M0     I           Indeterminate       No  \n",
            "1     Low  T1a   N0  M0     I               Excellent       No  \n",
            "2     Low  T1a   N0  M0     I               Excellent       No  \n",
            "3     Low  T1a   N0  M0     I               Excellent       No  \n",
            "4     Low  T1a   N0  M0     I               Excellent       No  \n",
            "..    ...  ...  ...  ..   ...                     ...      ...  \n",
            "378  High  T4b  N1b  M1   IVB  Biochemical Incomplete      Yes  \n",
            "379  High  T4b  N1b  M1   IVB   Structural Incomplete      Yes  \n",
            "380  High  T4b  N1b  M1   IVB   Structural Incomplete      Yes  \n",
            "381  High  T4b  N1b  M0   IVA   Structural Incomplete      Yes  \n",
            "382  High  T4b  N1b  M0   IVA   Structural Incomplete      Yes  \n",
            "\n",
            "[383 rows x 17 columns]\n"
          ]
        }
      ]
    },
    {
      "cell_type": "code",
      "source": [
        "df = pd.read_json('/content/gdrive/MyDrive/Colab Notebooks/iris.json')\n",
        "print(df)"
      ],
      "metadata": {
        "colab": {
          "base_uri": "https://localhost:8080/"
        },
        "id": "PZxlBmPBd7Hm",
        "outputId": "f823df30-56d6-4758-8eae-e34198edd8c1"
      },
      "execution_count": 8,
      "outputs": [
        {
          "output_type": "stream",
          "name": "stdout",
          "text": [
            "     sepalLength  sepalWidth  petalLength  petalWidth    species\n",
            "0            5.1         3.5          1.4         0.2     setosa\n",
            "1            4.9         3.0          1.4         0.2     setosa\n",
            "2            4.7         3.2          1.3         0.2     setosa\n",
            "3            4.6         3.1          1.5         0.2     setosa\n",
            "4            5.0         3.6          1.4         0.2     setosa\n",
            "..           ...         ...          ...         ...        ...\n",
            "145          6.7         3.0          5.2         2.3  virginica\n",
            "146          6.3         2.5          5.0         1.9  virginica\n",
            "147          6.5         3.0          5.2         2.0  virginica\n",
            "148          6.2         3.4          5.4         2.3  virginica\n",
            "149          5.9         3.0          5.1         1.8  virginica\n",
            "\n",
            "[150 rows x 5 columns]\n"
          ]
        }
      ]
    },
    {
      "cell_type": "markdown",
      "source": [
        "  **türkçe karakterler varsa encoding = 'UTF-8'**"
      ],
      "metadata": {
        "id": "I3jNAlInidwt"
      }
    }
  ]
}