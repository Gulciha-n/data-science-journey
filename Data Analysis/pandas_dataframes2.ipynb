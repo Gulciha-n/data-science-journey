{
  "nbformat": 4,
  "nbformat_minor": 0,
  "metadata": {
    "colab": {
      "provenance": []
    },
    "kernelspec": {
      "name": "python3",
      "display_name": "Python 3"
    },
    "language_info": {
      "name": "python"
    }
  },
  "cells": [
    {
      "cell_type": "code",
      "execution_count": 1,
      "metadata": {
        "id": "hkcvv06Erpy1"
      },
      "outputs": [],
      "source": [
        "import pandas as pd\n",
        "import numpy as np"
      ]
    },
    {
      "cell_type": "code",
      "source": [
        "data = np.random.randn(3,3)\n",
        "df = pd.DataFrame(data , index=[\"A\",\"B\",\"C\"] , columns=[\"column1\", \"column2\",\"column3\"])\n",
        "print(df)"
      ],
      "metadata": {
        "id": "HQ6UGA6Qr1rt",
        "colab": {
          "base_uri": "https://localhost:8080/"
        },
        "outputId": "add86491-50fe-46f9-a827-f31f2add3b21"
      },
      "execution_count": 2,
      "outputs": [
        {
          "output_type": "stream",
          "name": "stdout",
          "text": [
            "    column1   column2   column3\n",
            "A -2.778519  1.857928 -1.136381\n",
            "B  0.649266  0.645317 -0.431929\n",
            "C -0.045616  1.148692 -0.363032\n"
          ]
        }
      ]
    },
    {
      "cell_type": "code",
      "source": [
        "result = df[\"column1\"]\n",
        "print(result)"
      ],
      "metadata": {
        "colab": {
          "base_uri": "https://localhost:8080/"
        },
        "id": "s68exFOGDUdW",
        "outputId": "6c3244fd-45a8-4d7a-f8ee-68ecab6be60d"
      },
      "execution_count": 3,
      "outputs": [
        {
          "output_type": "stream",
          "name": "stdout",
          "text": [
            "A   -2.778519\n",
            "B    0.649266\n",
            "C   -0.045616\n",
            "Name: column1, dtype: float64\n"
          ]
        }
      ]
    },
    {
      "cell_type": "code",
      "source": [
        "result = df[[\"column1\",\"column2\"]]  #birden fazla kolonu yazdırmak için onları bir liste şeklinde gönderiyoruz\n",
        "print(result)"
      ],
      "metadata": {
        "colab": {
          "base_uri": "https://localhost:8080/"
        },
        "id": "nth6IqAsGnW9",
        "outputId": "c1b54b2d-cddb-475d-d1b5-d22a4ad4d523"
      },
      "execution_count": 4,
      "outputs": [
        {
          "output_type": "stream",
          "name": "stdout",
          "text": [
            "    column1   column2\n",
            "A -2.778519  1.857928\n",
            "B  0.649266  0.645317\n",
            "C -0.045616  1.148692\n"
          ]
        }
      ]
    },
    {
      "cell_type": "markdown",
      "source": [
        "## Loc [ ] method (location)\n",
        "**Loc[\"Row\"]    ,   Loc [\":\" , \"column\"]**"
      ],
      "metadata": {
        "id": "v18U2wI-Ho-J"
      }
    },
    {
      "cell_type": "code",
      "source": [
        "result = df.loc[\"A\"]\n",
        "print(result)"
      ],
      "metadata": {
        "colab": {
          "base_uri": "https://localhost:8080/"
        },
        "id": "SMYJGTaLGxmb",
        "outputId": "5729040d-a84a-4f2a-ed35-ca57400bd615"
      },
      "execution_count": 5,
      "outputs": [
        {
          "output_type": "stream",
          "name": "stdout",
          "text": [
            "column1   -2.778519\n",
            "column2    1.857928\n",
            "column3   -1.136381\n",
            "Name: A, dtype: float64\n"
          ]
        }
      ]
    },
    {
      "cell_type": "code",
      "source": [
        "result = df.loc[: , \"column3\"]\n",
        "print(result)"
      ],
      "metadata": {
        "colab": {
          "base_uri": "https://localhost:8080/"
        },
        "id": "GJTIHr1THS1-",
        "outputId": "28c37bc6-eebf-4aa3-8879-f8d6396391d1"
      },
      "execution_count": 6,
      "outputs": [
        {
          "output_type": "stream",
          "name": "stdout",
          "text": [
            "A   -1.136381\n",
            "B   -0.431929\n",
            "C   -0.363032\n",
            "Name: column3, dtype: float64\n"
          ]
        }
      ]
    },
    {
      "cell_type": "code",
      "source": [
        "result = df.loc[\"B\" , [\"column1\",\"column2\"] ]\n",
        "print(result)"
      ],
      "metadata": {
        "colab": {
          "base_uri": "https://localhost:8080/"
        },
        "id": "OYHdS4ftKvaY",
        "outputId": "d566de72-f1e3-4a1c-c5c2-4c0592cd40a0"
      },
      "execution_count": 7,
      "outputs": [
        {
          "output_type": "stream",
          "name": "stdout",
          "text": [
            "column1    0.649266\n",
            "column2    0.645317\n",
            "Name: B, dtype: float64\n"
          ]
        }
      ]
    },
    {
      "cell_type": "code",
      "source": [
        "result = df.loc[\"B\" , \"column1\":\"column3\" ]   #column1 den column3 e kadar (3 dahil) burada liste olarak vermiyoruz\n",
        "print(result)"
      ],
      "metadata": {
        "colab": {
          "base_uri": "https://localhost:8080/"
        },
        "id": "n1hLyqzFLBTL",
        "outputId": "06d646fa-7c9c-4d22-da79-54b7df675b71"
      },
      "execution_count": 8,
      "outputs": [
        {
          "output_type": "stream",
          "name": "stdout",
          "text": [
            "column1    0.649266\n",
            "column2    0.645317\n",
            "column3   -0.431929\n",
            "Name: B, dtype: float64\n"
          ]
        }
      ]
    },
    {
      "cell_type": "code",
      "source": [
        "result = df.loc[\"A\" : \"B\" , \"column1\":\"column3\" ]\n",
        "print(result)"
      ],
      "metadata": {
        "colab": {
          "base_uri": "https://localhost:8080/"
        },
        "id": "ZsKhcvYvQqqn",
        "outputId": "41aff014-5dd7-4dab-934d-a208b0cababf"
      },
      "execution_count": 9,
      "outputs": [
        {
          "output_type": "stream",
          "name": "stdout",
          "text": [
            "    column1   column2   column3\n",
            "A -2.778519  1.857928 -1.136381\n",
            "B  0.649266  0.645317 -0.431929\n"
          ]
        }
      ]
    },
    {
      "cell_type": "markdown",
      "source": [
        "# iloc -> index location"
      ],
      "metadata": {
        "id": "s48um427SdsD"
      }
    },
    {
      "cell_type": "code",
      "source": [
        "result = df.iloc[0:3 , 0:3]\n",
        "print(result)"
      ],
      "metadata": {
        "colab": {
          "base_uri": "https://localhost:8080/"
        },
        "id": "CUnNHuyESgEt",
        "outputId": "ba47c05d-97b1-48f2-c440-f75da77a5c86"
      },
      "execution_count": 10,
      "outputs": [
        {
          "output_type": "stream",
          "name": "stdout",
          "text": [
            "    column1   column2   column3\n",
            "A -2.778519  1.857928 -1.136381\n",
            "B  0.649266  0.645317 -0.431929\n",
            "C -0.045616  1.148692 -0.363032\n"
          ]
        }
      ]
    },
    {
      "cell_type": "markdown",
      "source": [
        "# New Column"
      ],
      "metadata": {
        "id": "-dJ_XQrVTE_f"
      }
    },
    {
      "cell_type": "code",
      "source": [
        "df[\"column4\"] = pd.Series(np.random.randn(3),index=[\"A\",\"B\",\"C\"])\n",
        "print(df)"
      ],
      "metadata": {
        "colab": {
          "base_uri": "https://localhost:8080/"
        },
        "id": "MYOjbzYuTHan",
        "outputId": "6f45122a-af80-4ed9-8da3-4288a69189b2"
      },
      "execution_count": 11,
      "outputs": [
        {
          "output_type": "stream",
          "name": "stdout",
          "text": [
            "    column1   column2   column3   column4\n",
            "A -2.778519  1.857928 -1.136381 -0.171240\n",
            "B  0.649266  0.645317 -0.431929  0.473065\n",
            "C -0.045616  1.148692 -0.363032  0.493579\n"
          ]
        }
      ]
    },
    {
      "cell_type": "code",
      "source": [
        "df[\"column5\"] = df[\"column1\"] + df[\"column2\"]\n",
        "print(df)"
      ],
      "metadata": {
        "id": "_1duy5XTTp58",
        "colab": {
          "base_uri": "https://localhost:8080/"
        },
        "outputId": "a27a0d16-60a6-42f2-93f6-61255c23c11e"
      },
      "execution_count": 12,
      "outputs": [
        {
          "output_type": "stream",
          "name": "stdout",
          "text": [
            "    column1   column2   column3   column4   column5\n",
            "A -2.778519  1.857928 -1.136381 -0.171240 -0.920591\n",
            "B  0.649266  0.645317 -0.431929  0.473065  1.294583\n",
            "C -0.045616  1.148692 -0.363032  0.493579  1.103075\n"
          ]
        }
      ]
    },
    {
      "cell_type": "markdown",
      "source": [
        "# **Drop**\n",
        "\n",
        "**Tekrar yazdırınca df'in orjinal hali geliyor, yeni tablo ile devam etmek istiyorsak  bir değişkene atamalıyız ya da\"inplace = True\" kullanmalıyız**"
      ],
      "metadata": {
        "id": "bQBZXziEBnuR"
      }
    },
    {
      "cell_type": "code",
      "source": [
        "df.drop(\"column5\" , axis=1)"
      ],
      "metadata": {
        "colab": {
          "base_uri": "https://localhost:8080/",
          "height": 143
        },
        "id": "Qq6NWUiYBp0u",
        "outputId": "6dba46e3-8c45-4349-d2d7-d84bae149023"
      },
      "execution_count": 13,
      "outputs": [
        {
          "output_type": "execute_result",
          "data": {
            "text/plain": [
              "    column1   column2   column3   column4\n",
              "A -2.778519  1.857928 -1.136381 -0.171240\n",
              "B  0.649266  0.645317 -0.431929  0.473065\n",
              "C -0.045616  1.148692 -0.363032  0.493579"
            ],
            "text/html": [
              "\n",
              "  <div id=\"df-e27064ff-aba9-4778-a6be-14cd479c052c\" class=\"colab-df-container\">\n",
              "    <div>\n",
              "<style scoped>\n",
              "    .dataframe tbody tr th:only-of-type {\n",
              "        vertical-align: middle;\n",
              "    }\n",
              "\n",
              "    .dataframe tbody tr th {\n",
              "        vertical-align: top;\n",
              "    }\n",
              "\n",
              "    .dataframe thead th {\n",
              "        text-align: right;\n",
              "    }\n",
              "</style>\n",
              "<table border=\"1\" class=\"dataframe\">\n",
              "  <thead>\n",
              "    <tr style=\"text-align: right;\">\n",
              "      <th></th>\n",
              "      <th>column1</th>\n",
              "      <th>column2</th>\n",
              "      <th>column3</th>\n",
              "      <th>column4</th>\n",
              "    </tr>\n",
              "  </thead>\n",
              "  <tbody>\n",
              "    <tr>\n",
              "      <th>A</th>\n",
              "      <td>-2.778519</td>\n",
              "      <td>1.857928</td>\n",
              "      <td>-1.136381</td>\n",
              "      <td>-0.171240</td>\n",
              "    </tr>\n",
              "    <tr>\n",
              "      <th>B</th>\n",
              "      <td>0.649266</td>\n",
              "      <td>0.645317</td>\n",
              "      <td>-0.431929</td>\n",
              "      <td>0.473065</td>\n",
              "    </tr>\n",
              "    <tr>\n",
              "      <th>C</th>\n",
              "      <td>-0.045616</td>\n",
              "      <td>1.148692</td>\n",
              "      <td>-0.363032</td>\n",
              "      <td>0.493579</td>\n",
              "    </tr>\n",
              "  </tbody>\n",
              "</table>\n",
              "</div>\n",
              "    <div class=\"colab-df-buttons\">\n",
              "\n",
              "  <div class=\"colab-df-container\">\n",
              "    <button class=\"colab-df-convert\" onclick=\"convertToInteractive('df-e27064ff-aba9-4778-a6be-14cd479c052c')\"\n",
              "            title=\"Convert this dataframe to an interactive table.\"\n",
              "            style=\"display:none;\">\n",
              "\n",
              "  <svg xmlns=\"http://www.w3.org/2000/svg\" height=\"24px\" viewBox=\"0 -960 960 960\">\n",
              "    <path d=\"M120-120v-720h720v720H120Zm60-500h600v-160H180v160Zm220 220h160v-160H400v160Zm0 220h160v-160H400v160ZM180-400h160v-160H180v160Zm440 0h160v-160H620v160ZM180-180h160v-160H180v160Zm440 0h160v-160H620v160Z\"/>\n",
              "  </svg>\n",
              "    </button>\n",
              "\n",
              "  <style>\n",
              "    .colab-df-container {\n",
              "      display:flex;\n",
              "      gap: 12px;\n",
              "    }\n",
              "\n",
              "    .colab-df-convert {\n",
              "      background-color: #E8F0FE;\n",
              "      border: none;\n",
              "      border-radius: 50%;\n",
              "      cursor: pointer;\n",
              "      display: none;\n",
              "      fill: #1967D2;\n",
              "      height: 32px;\n",
              "      padding: 0 0 0 0;\n",
              "      width: 32px;\n",
              "    }\n",
              "\n",
              "    .colab-df-convert:hover {\n",
              "      background-color: #E2EBFA;\n",
              "      box-shadow: 0px 1px 2px rgba(60, 64, 67, 0.3), 0px 1px 3px 1px rgba(60, 64, 67, 0.15);\n",
              "      fill: #174EA6;\n",
              "    }\n",
              "\n",
              "    .colab-df-buttons div {\n",
              "      margin-bottom: 4px;\n",
              "    }\n",
              "\n",
              "    [theme=dark] .colab-df-convert {\n",
              "      background-color: #3B4455;\n",
              "      fill: #D2E3FC;\n",
              "    }\n",
              "\n",
              "    [theme=dark] .colab-df-convert:hover {\n",
              "      background-color: #434B5C;\n",
              "      box-shadow: 0px 1px 3px 1px rgba(0, 0, 0, 0.15);\n",
              "      filter: drop-shadow(0px 1px 2px rgba(0, 0, 0, 0.3));\n",
              "      fill: #FFFFFF;\n",
              "    }\n",
              "  </style>\n",
              "\n",
              "    <script>\n",
              "      const buttonEl =\n",
              "        document.querySelector('#df-e27064ff-aba9-4778-a6be-14cd479c052c button.colab-df-convert');\n",
              "      buttonEl.style.display =\n",
              "        google.colab.kernel.accessAllowed ? 'block' : 'none';\n",
              "\n",
              "      async function convertToInteractive(key) {\n",
              "        const element = document.querySelector('#df-e27064ff-aba9-4778-a6be-14cd479c052c');\n",
              "        const dataTable =\n",
              "          await google.colab.kernel.invokeFunction('convertToInteractive',\n",
              "                                                    [key], {});\n",
              "        if (!dataTable) return;\n",
              "\n",
              "        const docLinkHtml = 'Like what you see? Visit the ' +\n",
              "          '<a target=\"_blank\" href=https://colab.research.google.com/notebooks/data_table.ipynb>data table notebook</a>'\n",
              "          + ' to learn more about interactive tables.';\n",
              "        element.innerHTML = '';\n",
              "        dataTable['output_type'] = 'display_data';\n",
              "        await google.colab.output.renderOutput(dataTable, element);\n",
              "        const docLink = document.createElement('div');\n",
              "        docLink.innerHTML = docLinkHtml;\n",
              "        element.appendChild(docLink);\n",
              "      }\n",
              "    </script>\n",
              "  </div>\n",
              "\n",
              "\n",
              "<div id=\"df-eb44d699-0742-4fef-8390-c7766c0a1f25\">\n",
              "  <button class=\"colab-df-quickchart\" onclick=\"quickchart('df-eb44d699-0742-4fef-8390-c7766c0a1f25')\"\n",
              "            title=\"Suggest charts\"\n",
              "            style=\"display:none;\">\n",
              "\n",
              "<svg xmlns=\"http://www.w3.org/2000/svg\" height=\"24px\"viewBox=\"0 0 24 24\"\n",
              "     width=\"24px\">\n",
              "    <g>\n",
              "        <path d=\"M19 3H5c-1.1 0-2 .9-2 2v14c0 1.1.9 2 2 2h14c1.1 0 2-.9 2-2V5c0-1.1-.9-2-2-2zM9 17H7v-7h2v7zm4 0h-2V7h2v10zm4 0h-2v-4h2v4z\"/>\n",
              "    </g>\n",
              "</svg>\n",
              "  </button>\n",
              "\n",
              "<style>\n",
              "  .colab-df-quickchart {\n",
              "      --bg-color: #E8F0FE;\n",
              "      --fill-color: #1967D2;\n",
              "      --hover-bg-color: #E2EBFA;\n",
              "      --hover-fill-color: #174EA6;\n",
              "      --disabled-fill-color: #AAA;\n",
              "      --disabled-bg-color: #DDD;\n",
              "  }\n",
              "\n",
              "  [theme=dark] .colab-df-quickchart {\n",
              "      --bg-color: #3B4455;\n",
              "      --fill-color: #D2E3FC;\n",
              "      --hover-bg-color: #434B5C;\n",
              "      --hover-fill-color: #FFFFFF;\n",
              "      --disabled-bg-color: #3B4455;\n",
              "      --disabled-fill-color: #666;\n",
              "  }\n",
              "\n",
              "  .colab-df-quickchart {\n",
              "    background-color: var(--bg-color);\n",
              "    border: none;\n",
              "    border-radius: 50%;\n",
              "    cursor: pointer;\n",
              "    display: none;\n",
              "    fill: var(--fill-color);\n",
              "    height: 32px;\n",
              "    padding: 0;\n",
              "    width: 32px;\n",
              "  }\n",
              "\n",
              "  .colab-df-quickchart:hover {\n",
              "    background-color: var(--hover-bg-color);\n",
              "    box-shadow: 0 1px 2px rgba(60, 64, 67, 0.3), 0 1px 3px 1px rgba(60, 64, 67, 0.15);\n",
              "    fill: var(--button-hover-fill-color);\n",
              "  }\n",
              "\n",
              "  .colab-df-quickchart-complete:disabled,\n",
              "  .colab-df-quickchart-complete:disabled:hover {\n",
              "    background-color: var(--disabled-bg-color);\n",
              "    fill: var(--disabled-fill-color);\n",
              "    box-shadow: none;\n",
              "  }\n",
              "\n",
              "  .colab-df-spinner {\n",
              "    border: 2px solid var(--fill-color);\n",
              "    border-color: transparent;\n",
              "    border-bottom-color: var(--fill-color);\n",
              "    animation:\n",
              "      spin 1s steps(1) infinite;\n",
              "  }\n",
              "\n",
              "  @keyframes spin {\n",
              "    0% {\n",
              "      border-color: transparent;\n",
              "      border-bottom-color: var(--fill-color);\n",
              "      border-left-color: var(--fill-color);\n",
              "    }\n",
              "    20% {\n",
              "      border-color: transparent;\n",
              "      border-left-color: var(--fill-color);\n",
              "      border-top-color: var(--fill-color);\n",
              "    }\n",
              "    30% {\n",
              "      border-color: transparent;\n",
              "      border-left-color: var(--fill-color);\n",
              "      border-top-color: var(--fill-color);\n",
              "      border-right-color: var(--fill-color);\n",
              "    }\n",
              "    40% {\n",
              "      border-color: transparent;\n",
              "      border-right-color: var(--fill-color);\n",
              "      border-top-color: var(--fill-color);\n",
              "    }\n",
              "    60% {\n",
              "      border-color: transparent;\n",
              "      border-right-color: var(--fill-color);\n",
              "    }\n",
              "    80% {\n",
              "      border-color: transparent;\n",
              "      border-right-color: var(--fill-color);\n",
              "      border-bottom-color: var(--fill-color);\n",
              "    }\n",
              "    90% {\n",
              "      border-color: transparent;\n",
              "      border-bottom-color: var(--fill-color);\n",
              "    }\n",
              "  }\n",
              "</style>\n",
              "\n",
              "  <script>\n",
              "    async function quickchart(key) {\n",
              "      const quickchartButtonEl =\n",
              "        document.querySelector('#' + key + ' button');\n",
              "      quickchartButtonEl.disabled = true;  // To prevent multiple clicks.\n",
              "      quickchartButtonEl.classList.add('colab-df-spinner');\n",
              "      try {\n",
              "        const charts = await google.colab.kernel.invokeFunction(\n",
              "            'suggestCharts', [key], {});\n",
              "      } catch (error) {\n",
              "        console.error('Error during call to suggestCharts:', error);\n",
              "      }\n",
              "      quickchartButtonEl.classList.remove('colab-df-spinner');\n",
              "      quickchartButtonEl.classList.add('colab-df-quickchart-complete');\n",
              "    }\n",
              "    (() => {\n",
              "      let quickchartButtonEl =\n",
              "        document.querySelector('#df-eb44d699-0742-4fef-8390-c7766c0a1f25 button');\n",
              "      quickchartButtonEl.style.display =\n",
              "        google.colab.kernel.accessAllowed ? 'block' : 'none';\n",
              "    })();\n",
              "  </script>\n",
              "</div>\n",
              "\n",
              "    </div>\n",
              "  </div>\n"
            ],
            "application/vnd.google.colaboratory.intrinsic+json": {
              "type": "dataframe",
              "summary": "{\n  \"name\": \"df\",\n  \"rows\": 3,\n  \"fields\": [\n    {\n      \"column\": \"column1\",\n      \"properties\": {\n        \"dtype\": \"number\",\n        \"std\": 1.8120580328410834,\n        \"min\": -2.778518532677903,\n        \"max\": 0.6492663159070142,\n        \"num_unique_values\": 3,\n        \"samples\": [\n          -2.778518532677903,\n          0.6492663159070142,\n          -0.04561618840897855\n        ],\n        \"semantic_type\": \"\",\n        \"description\": \"\"\n      }\n    },\n    {\n      \"column\": \"column2\",\n      \"properties\": {\n        \"dtype\": \"number\",\n        \"std\": 0.6092109687804657,\n        \"min\": 0.6453167400015202,\n        \"max\": 1.857927858253131,\n        \"num_unique_values\": 3,\n        \"samples\": [\n          1.857927858253131,\n          0.6453167400015202,\n          1.1486916410767039\n        ],\n        \"semantic_type\": \"\",\n        \"description\": \"\"\n      }\n    },\n    {\n      \"column\": \"column3\",\n      \"properties\": {\n        \"dtype\": \"number\",\n        \"std\": 0.42799333864080535,\n        \"min\": -1.1363811709226819,\n        \"max\": -0.3630315757729447,\n        \"num_unique_values\": 3,\n        \"samples\": [\n          -1.1363811709226819,\n          -0.43192862629177337,\n          -0.3630315757729447\n        ],\n        \"semantic_type\": \"\",\n        \"description\": \"\"\n      }\n    },\n    {\n      \"column\": \"column4\",\n      \"properties\": {\n        \"dtype\": \"number\",\n        \"std\": 0.3780502626830848,\n        \"min\": -0.17123952990442837,\n        \"max\": 0.4935787734549321,\n        \"num_unique_values\": 3,\n        \"samples\": [\n          -0.17123952990442837,\n          0.47306458964590264,\n          0.4935787734549321\n        ],\n        \"semantic_type\": \"\",\n        \"description\": \"\"\n      }\n    }\n  ]\n}"
            }
          },
          "metadata": {},
          "execution_count": 13
        }
      ]
    },
    {
      "cell_type": "code",
      "source": [
        "print(df)"
      ],
      "metadata": {
        "colab": {
          "base_uri": "https://localhost:8080/"
        },
        "id": "BUIiJqnnByq0",
        "outputId": "cdd86b07-f27e-4d6f-ee9e-9baef6a98ed9"
      },
      "execution_count": 14,
      "outputs": [
        {
          "output_type": "stream",
          "name": "stdout",
          "text": [
            "    column1   column2   column3   column4   column5\n",
            "A -2.778519  1.857928 -1.136381 -0.171240 -0.920591\n",
            "B  0.649266  0.645317 -0.431929  0.473065  1.294583\n",
            "C -0.045616  1.148692 -0.363032  0.493579  1.103075\n"
          ]
        }
      ]
    },
    {
      "cell_type": "code",
      "source": [
        "newDf = df.drop(\"column5\" , axis=1)\n",
        "print(newDf)"
      ],
      "metadata": {
        "colab": {
          "base_uri": "https://localhost:8080/"
        },
        "id": "_bwmsN5mB1J2",
        "outputId": "1d1c8fe8-e111-4c3e-e07c-eaca9fb28c55"
      },
      "execution_count": 15,
      "outputs": [
        {
          "output_type": "stream",
          "name": "stdout",
          "text": [
            "    column1   column2   column3   column4\n",
            "A -2.778519  1.857928 -1.136381 -0.171240\n",
            "B  0.649266  0.645317 -0.431929  0.473065\n",
            "C -0.045616  1.148692 -0.363032  0.493579\n"
          ]
        }
      ]
    },
    {
      "cell_type": "code",
      "source": [
        "print(df)"
      ],
      "metadata": {
        "colab": {
          "base_uri": "https://localhost:8080/"
        },
        "id": "MZR9p6VACCAv",
        "outputId": "c8c61245-b0d4-4329-d4a1-a6b2ac3e8ba7"
      },
      "execution_count": 16,
      "outputs": [
        {
          "output_type": "stream",
          "name": "stdout",
          "text": [
            "    column1   column2   column3   column4   column5\n",
            "A -2.778519  1.857928 -1.136381 -0.171240 -0.920591\n",
            "B  0.649266  0.645317 -0.431929  0.473065  1.294583\n",
            "C -0.045616  1.148692 -0.363032  0.493579  1.103075\n"
          ]
        }
      ]
    },
    {
      "cell_type": "code",
      "source": [
        "df.drop(\"column3\" , axis=1 , inplace=True)\n",
        "print(df)\n",
        "#inplace=False dersek kopyası çıkartılıp onun üzerinden işlem yapılır"
      ],
      "metadata": {
        "colab": {
          "base_uri": "https://localhost:8080/"
        },
        "id": "6ARm2BB1DJS9",
        "outputId": "7110e43c-0c91-4ee6-b22c-0473c05bab80"
      },
      "execution_count": 17,
      "outputs": [
        {
          "output_type": "stream",
          "name": "stdout",
          "text": [
            "    column1   column2   column4   column5\n",
            "A -2.778519  1.857928 -0.171240 -0.920591\n",
            "B  0.649266  0.645317  0.473065  1.294583\n",
            "C -0.045616  1.148692  0.493579  1.103075\n"
          ]
        }
      ]
    }
  ]
}