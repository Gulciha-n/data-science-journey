{
  "nbformat": 4,
  "nbformat_minor": 0,
  "metadata": {
    "colab": {
      "provenance": []
    },
    "kernelspec": {
      "name": "python3",
      "display_name": "Python 3"
    },
    "language_info": {
      "name": "python"
    }
  },
  "cells": [
    {
      "cell_type": "code",
      "execution_count": 1,
      "metadata": {
        "colab": {
          "base_uri": "https://localhost:8080/"
        },
        "id": "PcjBq8913hi3",
        "outputId": "5fef5245-d0fc-43f4-968a-05beac7d3d76"
      },
      "outputs": [
        {
          "output_type": "stream",
          "name": "stdout",
          "text": [
            "Mounted at /content/gdrive\n"
          ]
        }
      ],
      "source": [
        "from google.colab import drive\n",
        "drive.mount(\"/content/gdrive\")"
      ]
    },
    {
      "cell_type": "code",
      "source": [
        "import pandas as pd"
      ],
      "metadata": {
        "id": "nJDGKpue3uyy"
      },
      "execution_count": 2,
      "outputs": []
    },
    {
      "cell_type": "markdown",
      "source": [
        "# Join\n",
        "**pd.merge**"
      ],
      "metadata": {
        "id": "OSLt__XoLXnW"
      }
    },
    {
      "cell_type": "code",
      "source": [
        "customers =  {\n",
        "    \"CUstomerId\" : [1,2,3,4],\n",
        "    \"FirstName\" : [\"Ali\" , \"Hasan\", \"Can\" , \"Canan\"],\n",
        "    \"LastName\" : [\"Yılmaz\",\"Korkmaz\",\"Çelik\",\"Toprak\"]\n",
        "}\n",
        "\n",
        "orders = {\n",
        "    \"OrderId\" : [10,11,12,13],\n",
        "    \"CUstomerId\" : [1,2,7,9],\n",
        "    \"OrderDate\" : [\"2018-04-07\",\"2018-09-02\",\"2018-03-07\",\"2018-05-07\"]\n",
        "}\n",
        "\n",
        "df_cutomers = pd.DataFrame(customers , columns=[\"CUstomerId\",\"FirstName\",\"LastName\"])\n",
        "df_orders = pd.DataFrame(orders,columns=[\"OrderId\",\"CUstomerId\",\"OrderDate\"])"
      ],
      "metadata": {
        "id": "wvDvViJOHT3H"
      },
      "execution_count": 3,
      "outputs": []
    },
    {
      "cell_type": "code",
      "source": [
        "print(df_cutomers)\n",
        "print()\n",
        "print(df_orders)"
      ],
      "metadata": {
        "colab": {
          "base_uri": "https://localhost:8080/"
        },
        "id": "vFAwqpzlI1e-",
        "outputId": "1fec85c6-b999-4055-e7cf-2b0ec00a3ff3"
      },
      "execution_count": 5,
      "outputs": [
        {
          "output_type": "stream",
          "name": "stdout",
          "text": [
            "   CUstomerId FirstName LastName\n",
            "0           1       Ali   Yılmaz\n",
            "1           2     Hasan  Korkmaz\n",
            "2           3       Can    Çelik\n",
            "3           4     Canan   Toprak\n",
            "\n",
            "   OrderId  CUstomerId   OrderDate\n",
            "0       10           1  2018-04-07\n",
            "1       11           2  2018-09-02\n",
            "2       12           7  2018-03-07\n",
            "3       13           9  2018-05-07\n"
          ]
        }
      ]
    },
    {
      "cell_type": "code",
      "source": [
        "#customers with orders\n",
        "result = pd.merge(df_cutomers,df_orders,how=\"inner\")\n",
        "print(result)"
      ],
      "metadata": {
        "colab": {
          "base_uri": "https://localhost:8080/"
        },
        "id": "d3UC2yq8JUxL",
        "outputId": "71bf0ffe-cfc4-4fd8-de05-0d624b6d5a3c"
      },
      "execution_count": 7,
      "outputs": [
        {
          "output_type": "stream",
          "name": "stdout",
          "text": [
            "   CUstomerId FirstName LastName  OrderId   OrderDate\n",
            "0           1       Ali   Yılmaz       10  2018-04-07\n",
            "1           2     Hasan  Korkmaz       11  2018-09-02\n"
          ]
        }
      ]
    },
    {
      "cell_type": "code",
      "source": [
        "result = pd.merge(df_cutomers,df_orders,how=\"outer\")\n",
        "print(result)"
      ],
      "metadata": {
        "colab": {
          "base_uri": "https://localhost:8080/"
        },
        "id": "lmIrjK2yKAhm",
        "outputId": "955153a7-cc34-4d34-9f3c-e732c3042957"
      },
      "execution_count": 8,
      "outputs": [
        {
          "output_type": "stream",
          "name": "stdout",
          "text": [
            "   CUstomerId FirstName LastName  OrderId   OrderDate\n",
            "0           1       Ali   Yılmaz     10.0  2018-04-07\n",
            "1           2     Hasan  Korkmaz     11.0  2018-09-02\n",
            "2           3       Can    Çelik      NaN         NaN\n",
            "3           4     Canan   Toprak      NaN         NaN\n",
            "4           7       NaN      NaN     12.0  2018-03-07\n",
            "5           9       NaN      NaN     13.0  2018-05-07\n"
          ]
        }
      ]
    },
    {
      "cell_type": "code",
      "source": [
        "result = pd.merge(df_cutomers,df_orders,how=\"left\")\n",
        "print(result)"
      ],
      "metadata": {
        "colab": {
          "base_uri": "https://localhost:8080/"
        },
        "id": "Iu6WUXLeKHKo",
        "outputId": "e2bdadd3-d3af-4551-e311-3d05b185e6d6"
      },
      "execution_count": 10,
      "outputs": [
        {
          "output_type": "stream",
          "name": "stdout",
          "text": [
            "   CUstomerId FirstName LastName  OrderId   OrderDate\n",
            "0           1       Ali   Yılmaz     10.0  2018-04-07\n",
            "1           2     Hasan  Korkmaz     11.0  2018-09-02\n",
            "2           3       Can    Çelik      NaN         NaN\n",
            "3           4     Canan   Toprak      NaN         NaN\n"
          ]
        }
      ]
    },
    {
      "cell_type": "code",
      "source": [
        "result = pd.merge(df_cutomers,df_orders,how=\"right\")\n",
        "print(result)"
      ],
      "metadata": {
        "colab": {
          "base_uri": "https://localhost:8080/"
        },
        "id": "44Z9fWMqKLOh",
        "outputId": "b538e064-a4b2-4a9b-ef76-6be8ead509d7"
      },
      "execution_count": 11,
      "outputs": [
        {
          "output_type": "stream",
          "name": "stdout",
          "text": [
            "   CUstomerId FirstName LastName  OrderId   OrderDate\n",
            "0           1       Ali   Yılmaz       10  2018-04-07\n",
            "1           2     Hasan  Korkmaz       11  2018-09-02\n",
            "2           7       NaN      NaN       12  2018-03-07\n",
            "3           9       NaN      NaN       13  2018-05-07\n"
          ]
        }
      ]
    },
    {
      "cell_type": "markdown",
      "source": [
        "# Concat"
      ],
      "metadata": {
        "id": "Z72m1CkhLRwa"
      }
    },
    {
      "cell_type": "code",
      "source": [
        "customersA =  {\n",
        "    \"CUstomerId\" : [1,2,3,4],\n",
        "    \"FirstName\" : [\"Ali\" , \"Hasan\", \"Can\" , \"Canan\"],\n",
        "    \"LastName\" : [\"Yılmaz\",\"Korkmaz\",\"Çelik\",\"Toprak\"]\n",
        "}\n",
        "\n",
        "customersB =  {\n",
        "    \"CUstomerId\" : [4,5,6,7],\n",
        "    \"FirstName\" : [\"Yağmur\" , \"CInar\", \"Cengiz\" , \"can\"],\n",
        "    \"LastName\" : [\"Yılmaz\",\"Turan\",\"Yılmaz\",\"Toprak\"]\n",
        "}\n",
        "\n",
        "df_cutomersA = pd.DataFrame(customersA,columns=[\"CUstomerId\",\"FirstName\",\"LastName\"])\n",
        "df_cutomersB = pd.DataFrame(customersB,columns=[\"CUstomerId\",\"FirstName\",\"LastName\"])\n"
      ],
      "metadata": {
        "id": "-Vn1yP34KPpd"
      },
      "execution_count": 14,
      "outputs": []
    },
    {
      "cell_type": "code",
      "source": [
        "result = pd.concat([df_cutomersA,df_cutomersB]) #axis = 0\n",
        "print(result)"
      ],
      "metadata": {
        "colab": {
          "base_uri": "https://localhost:8080/"
        },
        "id": "xMyTVb4YLLtM",
        "outputId": "960ddb8f-d125-4b02-9b9e-69b636382ce2"
      },
      "execution_count": 16,
      "outputs": [
        {
          "output_type": "stream",
          "name": "stdout",
          "text": [
            "   CUstomerId FirstName LastName\n",
            "0           1       Ali   Yılmaz\n",
            "1           2     Hasan  Korkmaz\n",
            "2           3       Can    Çelik\n",
            "3           4     Canan   Toprak\n",
            "0           4    Yağmur   Yılmaz\n",
            "1           5     CInar    Turan\n",
            "2           6    Cengiz   Yılmaz\n",
            "3           7       can   Toprak\n"
          ]
        }
      ]
    },
    {
      "cell_type": "code",
      "source": [
        "result = pd.concat([df_cutomersA,df_cutomersB] , axis=1)\n",
        "print(result)"
      ],
      "metadata": {
        "colab": {
          "base_uri": "https://localhost:8080/"
        },
        "id": "zwTUYwFsLulS",
        "outputId": "5e9f0a17-33f0-4683-ff2e-0494e8f123a5"
      },
      "execution_count": 17,
      "outputs": [
        {
          "output_type": "stream",
          "name": "stdout",
          "text": [
            "   CUstomerId FirstName LastName  CUstomerId FirstName LastName\n",
            "0           1       Ali   Yılmaz           4    Yağmur   Yılmaz\n",
            "1           2     Hasan  Korkmaz           5     CInar    Turan\n",
            "2           3       Can    Çelik           6    Cengiz   Yılmaz\n",
            "3           4     Canan   Toprak           7       can   Toprak\n"
          ]
        }
      ]
    }
  ]
}