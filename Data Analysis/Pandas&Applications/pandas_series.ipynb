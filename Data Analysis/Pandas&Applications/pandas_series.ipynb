{
  "nbformat": 4,
  "nbformat_minor": 0,
  "metadata": {
    "colab": {
      "provenance": []
    },
    "kernelspec": {
      "name": "python3",
      "display_name": "Python 3"
    },
    "language_info": {
      "name": "python"
    }
  },
  "cells": [
    {
      "cell_type": "code",
      "execution_count": 1,
      "metadata": {
        "id": "BKEDhYTOz66m"
      },
      "outputs": [],
      "source": [
        "import pandas as pd\n",
        "import numpy as np"
      ]
    },
    {
      "cell_type": "code",
      "source": [
        "pandas_series = pd.Series()\n",
        "print(pandas_series) # []"
      ],
      "metadata": {
        "colab": {
          "base_uri": "https://localhost:8080/"
        },
        "id": "TXPhaRIL5rDg",
        "outputId": "88fe1543-3b23-47c8-da9b-9a665269d16b"
      },
      "execution_count": 2,
      "outputs": [
        {
          "output_type": "stream",
          "name": "stdout",
          "text": [
            "Series([], dtype: object)\n"
          ]
        }
      ]
    },
    {
      "cell_type": "code",
      "source": [
        "numbers = [10,20,30,40,50]\n",
        "pandas_series = pd.Series(numbers)\n",
        "print(pandas_series)"
      ],
      "metadata": {
        "colab": {
          "base_uri": "https://localhost:8080/"
        },
        "id": "ld_I0S-z76ff",
        "outputId": "f16c528d-b0fb-4c4c-cb2d-dca27f849af6"
      },
      "execution_count": 3,
      "outputs": [
        {
          "output_type": "stream",
          "name": "stdout",
          "text": [
            "0    10\n",
            "1    20\n",
            "2    30\n",
            "3    40\n",
            "4    50\n",
            "dtype: int64\n"
          ]
        }
      ]
    },
    {
      "cell_type": "code",
      "source": [
        "letters = [\"a\",\"b\",\"c\",\"d\"]\n",
        "pandas_series = pd.Series(letters)\n",
        "print(pandas_series)"
      ],
      "metadata": {
        "colab": {
          "base_uri": "https://localhost:8080/"
        },
        "id": "TWDtsmj58gRF",
        "outputId": "25777d9c-d318-41a1-a759-7e4ae6086a53"
      },
      "execution_count": 4,
      "outputs": [
        {
          "output_type": "stream",
          "name": "stdout",
          "text": [
            "0    a\n",
            "1    b\n",
            "2    c\n",
            "3    d\n",
            "dtype: object\n"
          ]
        }
      ]
    },
    {
      "cell_type": "code",
      "source": [
        "# Pandasta her data type aynı olmaz zorunda değil farklı veri tiplerini verebilriz\n",
        "letters = [\"a\",\"b\",\"c\",\"d\",20,True]\n",
        "pandas_series = pd.Series(letters)\n",
        "print(pandas_series)"
      ],
      "metadata": {
        "colab": {
          "base_uri": "https://localhost:8080/"
        },
        "id": "OeFkmGxt8tSY",
        "outputId": "412924a6-ceea-44de-e51b-41414a43bb54"
      },
      "execution_count": 5,
      "outputs": [
        {
          "output_type": "stream",
          "name": "stdout",
          "text": [
            "0       a\n",
            "1       b\n",
            "2       c\n",
            "3       d\n",
            "4      20\n",
            "5    True\n",
            "dtype: object\n"
          ]
        }
      ]
    },
    {
      "cell_type": "code",
      "source": [
        "pandas_series = pd.Series(5, [0,1,2,3])  # (data , index)\n",
        "print(pandas_series)"
      ],
      "metadata": {
        "colab": {
          "base_uri": "https://localhost:8080/"
        },
        "id": "PjxgIRaZ9R7o",
        "outputId": "8f13c11e-3fd5-46ad-b608-ff32a8d5e2f8"
      },
      "execution_count": 6,
      "outputs": [
        {
          "output_type": "stream",
          "name": "stdout",
          "text": [
            "0    5\n",
            "1    5\n",
            "2    5\n",
            "3    5\n",
            "dtype: int64\n"
          ]
        }
      ]
    },
    {
      "cell_type": "code",
      "source": [
        "number = [10,20,30,40,50]\n",
        "pandas_series = pd.Series(number , [\"a\",\"b\",\"c\",\"d\",\"e\"])\n",
        "print(pandas_series)"
      ],
      "metadata": {
        "colab": {
          "base_uri": "https://localhost:8080/"
        },
        "id": "1kGafjr79n7J",
        "outputId": "25f24a67-e7db-410f-8917-fceb11805253"
      },
      "execution_count": 7,
      "outputs": [
        {
          "output_type": "stream",
          "name": "stdout",
          "text": [
            "a    10\n",
            "b    20\n",
            "c    30\n",
            "d    40\n",
            "e    50\n",
            "dtype: int64\n"
          ]
        }
      ]
    },
    {
      "cell_type": "code",
      "source": [
        "book = {\n",
        "    \"title\": \"1984\",\n",
        "    \"author\": \"George Orwell\",\n",
        "    \"year\": 1949,\n",
        "    \"genre\": \"Dystopian\"\n",
        "}\n",
        "\n",
        "pandas_dict_series = pd.Series(book)    # key , value değerlerine sahip. index oluşturmaz\n",
        "print(pandas_dict_series)"
      ],
      "metadata": {
        "colab": {
          "base_uri": "https://localhost:8080/"
        },
        "id": "Ll9J3kE199xt",
        "outputId": "f46cc76f-51c7-4d36-81a0-663d3c176b22"
      },
      "execution_count": 8,
      "outputs": [
        {
          "output_type": "stream",
          "name": "stdout",
          "text": [
            "title              1984\n",
            "author    George Orwell\n",
            "year               1949\n",
            "genre         Dystopian\n",
            "dtype: object\n"
          ]
        }
      ]
    },
    {
      "cell_type": "code",
      "source": [
        "# numpy kullanarak pandas sersisi oluşturmak\n",
        "random_numbers = np.random.randint(10,100,6)\n",
        "pandasNumpy_series = pd.Series(random_numbers)\n",
        "print(pandasNumpy_series)"
      ],
      "metadata": {
        "colab": {
          "base_uri": "https://localhost:8080/"
        },
        "id": "JViq2zSJ-wAa",
        "outputId": "8d16941b-e868-49f3-a756-c93ae580b89e"
      },
      "execution_count": 10,
      "outputs": [
        {
          "output_type": "stream",
          "name": "stdout",
          "text": [
            "0    82\n",
            "1    67\n",
            "2    19\n",
            "3    95\n",
            "4    88\n",
            "5    39\n",
            "dtype: int64\n"
          ]
        }
      ]
    },
    {
      "cell_type": "code",
      "source": [
        "# numpy kullanarak pandas sersisi oluşturmak\n",
        "numpy_array = np.array([1,2,3,4,5,6,7,8,9])\n",
        "pandasNumpy_series2 = pd.Series(numpy_array)\n",
        "print(pandasNumpy_series2)"
      ],
      "metadata": {
        "colab": {
          "base_uri": "https://localhost:8080/"
        },
        "id": "lqGcPBaq_KOe",
        "outputId": "8d754805-7387-4c1d-9067-e23b070873cf"
      },
      "execution_count": 11,
      "outputs": [
        {
          "output_type": "stream",
          "name": "stdout",
          "text": [
            "0    1\n",
            "1    2\n",
            "2    3\n",
            "3    4\n",
            "4    5\n",
            "5    6\n",
            "6    7\n",
            "7    8\n",
            "8    9\n",
            "dtype: int64\n"
          ]
        }
      ]
    },
    {
      "cell_type": "code",
      "source": [
        "pandas_series = pd.Series([10,20,30,40,50] , [\"a\",\"b\",\"c\",\"d\",\"e\"])\n",
        "print(pandas_series[0]) #indexleri değiştirmemize rağmen 0 dediğiimizde ilk eleman geliyor\n",
        "print(pandas_series[3])\n",
        "print(pandas_series[:2])\n",
        "print(pandas_series[-2:])\n",
        "print(pandas_series[\"e\"])\n",
        "print(pandas_series[[\"e\",\"a\"]])\n",
        "\n",
        "print(pandas_series.ndim)   #dimension = 1\n",
        "print(pandas_series.dtype)\n",
        "print(pandas_series.shape)\n",
        "print(pandas_series.sum())\n",
        "print(pandas_series.max())\n",
        "print(pandas_series.min())\n",
        "print(pandas_series.mean())\n",
        "\n",
        "result = pandas_series + pandas_series\n",
        "print(result)\n",
        "\n",
        "result = pandas_series + 50\n",
        "print(result)"
      ],
      "metadata": {
        "colab": {
          "base_uri": "https://localhost:8080/"
        },
        "id": "U4jrpWmf_6lO",
        "outputId": "fc549cdd-46d3-4ac0-b602-632d49e54734"
      },
      "execution_count": 32,
      "outputs": [
        {
          "output_type": "stream",
          "name": "stdout",
          "text": [
            "10\n",
            "40\n",
            "a    10\n",
            "b    20\n",
            "dtype: int64\n",
            "d    40\n",
            "e    50\n",
            "dtype: int64\n",
            "50\n",
            "e    50\n",
            "a    10\n",
            "dtype: int64\n",
            "1\n",
            "int64\n",
            "(5,)\n",
            "150\n",
            "50\n",
            "10\n",
            "30.0\n",
            "a     20\n",
            "b     40\n",
            "c     60\n",
            "d     80\n",
            "e    100\n",
            "dtype: int64\n",
            "a     60\n",
            "b     70\n",
            "c     80\n",
            "d     90\n",
            "e    100\n",
            "dtype: int64\n"
          ]
        }
      ]
    },
    {
      "cell_type": "code",
      "source": [
        "#pandas serisini numpy içerisinde kullanmak\n",
        "pandas_series = pd.Series([10,20,30,40,50] , [\"a\",\"b\",\"c\",\"d\",\"e\"])\n",
        "result = np.sqrt(pandas_series)\n",
        "print(result)"
      ],
      "metadata": {
        "colab": {
          "base_uri": "https://localhost:8080/"
        },
        "id": "A1oUJr7KAw53",
        "outputId": "50d6e174-b508-407f-f3dc-392a35f470e0"
      },
      "execution_count": 34,
      "outputs": [
        {
          "output_type": "stream",
          "name": "stdout",
          "text": [
            "a    3.162278\n",
            "b    4.472136\n",
            "c    5.477226\n",
            "d    6.324555\n",
            "e    7.071068\n",
            "dtype: float64\n"
          ]
        }
      ]
    },
    {
      "cell_type": "code",
      "source": [
        "pandas_series = pd.Series([10,20,30,40,50] , [\"a\",\"b\",\"c\",\"d\",\"e\"])\n",
        "result = pandas_series[pandas_series >= 30]\n",
        "print(result)"
      ],
      "metadata": {
        "colab": {
          "base_uri": "https://localhost:8080/"
        },
        "id": "weAxHcV3Dflp",
        "outputId": "64adbc26-327d-451a-a8c4-b84f76551826"
      },
      "execution_count": 36,
      "outputs": [
        {
          "output_type": "stream",
          "name": "stdout",
          "text": [
            "c    30\n",
            "d    40\n",
            "e    50\n",
            "dtype: int64\n"
          ]
        }
      ]
    },
    {
      "cell_type": "code",
      "source": [
        "opel2018 = pd.Series([10,20,30,40],[\"astra\",\"corsa\",\"mokka\",\"insignia\"])\n",
        "opel2019 = pd.Series([40,20,20,40],[\"astra\",\"corsa\",\"grandland\",\"insignia\"])\n",
        "print(opel2018)\n",
        "print(opel2019)\n",
        "\n",
        "total = opel2018 + opel2019       #ortak olmayan değerler için NaN yazdırır(Not a Number)\n",
        "print(total)\n",
        "print(\"Astra : \",total[\"astra\"])"
      ],
      "metadata": {
        "colab": {
          "base_uri": "https://localhost:8080/"
        },
        "id": "6JvnMBURD5vf",
        "outputId": "a770b2a8-feac-4fb7-dcd7-abbf5b6c964f"
      },
      "execution_count": 42,
      "outputs": [
        {
          "output_type": "stream",
          "name": "stdout",
          "text": [
            "astra       10\n",
            "corsa       20\n",
            "mokka       30\n",
            "insignia    40\n",
            "dtype: int64\n",
            "astra        40\n",
            "corsa        20\n",
            "grandland    20\n",
            "insignia     40\n",
            "dtype: int64\n",
            "astra        50.0\n",
            "corsa        40.0\n",
            "grandland     NaN\n",
            "insignia     80.0\n",
            "mokka         NaN\n",
            "dtype: float64\n",
            "Astra :  50.0\n"
          ]
        }
      ]
    }
  ]
}