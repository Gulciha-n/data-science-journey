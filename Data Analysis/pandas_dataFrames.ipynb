{
  "nbformat": 4,
  "nbformat_minor": 0,
  "metadata": {
    "colab": {
      "provenance": []
    },
    "kernelspec": {
      "name": "python3",
      "display_name": "Python 3"
    },
    "language_info": {
      "name": "python"
    }
  },
  "cells": [
    {
      "cell_type": "code",
      "execution_count": 1,
      "metadata": {
        "id": "-msY8awxL6SF"
      },
      "outputs": [],
      "source": [
        "import pandas as pd"
      ]
    },
    {
      "cell_type": "code",
      "source": [
        "# empty data frame\n",
        "df = pd.DataFrame()\n",
        "print(df)"
      ],
      "metadata": {
        "colab": {
          "base_uri": "https://localhost:8080/"
        },
        "id": "hMeFvoZHf98H",
        "outputId": "c0ee018d-23e1-4557-c489-48b9e4dd9078"
      },
      "execution_count": 12,
      "outputs": [
        {
          "output_type": "stream",
          "name": "stdout",
          "text": [
            "Empty DataFrame\n",
            "Columns: []\n",
            "Index: []\n"
          ]
        }
      ]
    },
    {
      "cell_type": "code",
      "source": [
        "df = pd.DataFrame([1,2,3,4,5])\n",
        "print(df)"
      ],
      "metadata": {
        "colab": {
          "base_uri": "https://localhost:8080/"
        },
        "id": "chnp0QsVgMuu",
        "outputId": "1560a34b-a1c0-450b-9775-3bbe49627b3e"
      },
      "execution_count": 13,
      "outputs": [
        {
          "output_type": "stream",
          "name": "stdout",
          "text": [
            "   0\n",
            "0  1\n",
            "1  2\n",
            "2  3\n",
            "3  4\n",
            "4  5\n"
          ]
        }
      ]
    },
    {
      "cell_type": "markdown",
      "source": [
        "# **Dataframe with List**"
      ],
      "metadata": {
        "id": "T8_sHcO4h7n9"
      }
    },
    {
      "cell_type": "code",
      "source": [
        "list1 = [[\"Ali\",80],[\"Ahmet\",75],[\"Tolga\",95]]\n",
        "df = pd.DataFrame(list1 , columns= [\"Name\", \"Grade\"])\n",
        "print(df)"
      ],
      "metadata": {
        "colab": {
          "base_uri": "https://localhost:8080/"
        },
        "id": "VI1A-rhrgZlS",
        "outputId": "4f70df30-6aa9-48e1-d0a6-602b57a9526a"
      },
      "execution_count": 14,
      "outputs": [
        {
          "output_type": "stream",
          "name": "stdout",
          "text": [
            "    Name  Grade\n",
            "0    Ali     80\n",
            "1  Ahmet     75\n",
            "2  Tolga     95\n"
          ]
        }
      ]
    },
    {
      "cell_type": "code",
      "source": [
        "list1 = [[\"Ali\",80],[\"Ahmet\",75],[\"Tolga\",95]]\n",
        "df = pd.DataFrame(list1 , columns= [\"Name\", \"Grade\"], index = [1,2,3])  #parametre ismi göndermediğimizde parametre sırası önemlidir\n",
        "print(df)"
      ],
      "metadata": {
        "colab": {
          "base_uri": "https://localhost:8080/"
        },
        "id": "tdmbZoAcg_8Y",
        "outputId": "2c4f7f75-5e56-47c3-ac1b-18a17a8d35fb"
      },
      "execution_count": 15,
      "outputs": [
        {
          "output_type": "stream",
          "name": "stdout",
          "text": [
            "    Name  Grade\n",
            "1    Ali     80\n",
            "2  Ahmet     75\n",
            "3  Tolga     95\n"
          ]
        }
      ]
    },
    {
      "cell_type": "markdown",
      "source": [
        "# Dataframe with Dictionary"
      ],
      "metadata": {
        "id": "E_T_Pe-FiHUb"
      }
    },
    {
      "cell_type": "code",
      "source": [
        "dict1 = {\"Name\" : [\"Tolga\",\"Sema\",\"Ayşenur\"] , \"Grades\" : [85,95,80]}\n",
        "df = pd.DataFrame(dict1)\n",
        "print(df)"
      ],
      "metadata": {
        "colab": {
          "base_uri": "https://localhost:8080/"
        },
        "id": "jbd8SBa4iPVl",
        "outputId": "d3f7b36d-4299-4f7d-89f0-17db4faaf97a"
      },
      "execution_count": 16,
      "outputs": [
        {
          "output_type": "stream",
          "name": "stdout",
          "text": [
            "      Name  Grades\n",
            "0    Tolga      85\n",
            "1     Sema      95\n",
            "2  Ayşenur      80\n"
          ]
        }
      ]
    },
    {
      "cell_type": "code",
      "source": [
        "dict1 = {\"Name\" : [\"Tolga\",\"Sema\",\"Ayşenur\"] , \"Grades\" : [85,95,80]}\n",
        "df = pd.DataFrame(dict1, index = [1,2,3])\n",
        "print(df)"
      ],
      "metadata": {
        "colab": {
          "base_uri": "https://localhost:8080/"
        },
        "id": "qydGmatii8W9",
        "outputId": "66e9f469-a7d6-4b37-b38b-ef70760135fd"
      },
      "execution_count": 17,
      "outputs": [
        {
          "output_type": "stream",
          "name": "stdout",
          "text": [
            "      Name  Grades\n",
            "1    Tolga      85\n",
            "2     Sema      95\n",
            "3  Ayşenur      80\n"
          ]
        }
      ]
    },
    {
      "cell_type": "code",
      "source": [
        "list_of_dicts = [                                     # liste içinde dict\n",
        "    {\"name\": \"Ali\", \"age\": 25, \"city\": \"Istanbul\"},\n",
        "    {\"name\": \"Ayşe\", \"age\": 30, \"city\": \"Ankara\"},\n",
        "    {\"name\": \"Mehmet\", \"age\": 22, \"city\": \"Izmir\"},\n",
        "    {\"name\": \"Fatma\", \"age\": 27, \"city\": \"Bursa\"}\n",
        "]\n",
        "\n",
        "df = pd.DataFrame(list_of_dicts)\n",
        "print(df)\n"
      ],
      "metadata": {
        "colab": {
          "base_uri": "https://localhost:8080/"
        },
        "id": "mZHgFp1Qjbrd",
        "outputId": "8bbee2a1-627c-4f7b-a1af-691bbebcaed7"
      },
      "execution_count": 18,
      "outputs": [
        {
          "output_type": "stream",
          "name": "stdout",
          "text": [
            "     name  age      city\n",
            "0     Ali   25  Istanbul\n",
            "1    Ayşe   30    Ankara\n",
            "2  Mehmet   22     Izmir\n",
            "3   Fatma   27     Bursa\n"
          ]
        }
      ]
    },
    {
      "cell_type": "markdown",
      "source": [
        "# Dataframe with Pandas Series"
      ],
      "metadata": {
        "id": "etaU6128iof-"
      }
    },
    {
      "cell_type": "code",
      "source": [
        "s1 = pd.Series([3,2,0,1])\n",
        "s2 = pd.Series([0,3,7,9])"
      ],
      "metadata": {
        "id": "IkJXpvS4M9xU"
      },
      "execution_count": 22,
      "outputs": []
    },
    {
      "cell_type": "code",
      "source": [
        "list1 = dict(apples = s1 , oranges = s2)  #sütun isimlerine ve bu sütunlara ait veriler\n",
        "data_frame = pd.DataFrame(list1)\n",
        "print(data_frame)"
      ],
      "metadata": {
        "id": "wgtWeOEVNQUx",
        "colab": {
          "base_uri": "https://localhost:8080/"
        },
        "outputId": "d88d4fab-1ff9-425c-8146-b9372e67ddca"
      },
      "execution_count": 23,
      "outputs": [
        {
          "output_type": "stream",
          "name": "stdout",
          "text": [
            "   apples  oranges\n",
            "0       3        0\n",
            "1       2        3\n",
            "2       0        7\n",
            "3       1        9\n"
          ]
        }
      ]
    },
    {
      "cell_type": "code",
      "source": [
        "data = {'apples': s1, 'oranges': s2}   #yukardaki ifade ile aynı sonucu verir\n",
        "data_frame = pd.DataFrame(data)\n",
        "print(data_frame)"
      ],
      "metadata": {
        "colab": {
          "base_uri": "https://localhost:8080/"
        },
        "id": "fwZMluPWeMh0",
        "outputId": "4ab748c9-cfcd-46ab-95d7-2727a384cf43"
      },
      "execution_count": 24,
      "outputs": [
        {
          "output_type": "stream",
          "name": "stdout",
          "text": [
            "   apples  oranges\n",
            "0       3        0\n",
            "1       2        3\n",
            "2       0        7\n",
            "3       1        9\n"
          ]
        }
      ]
    }
  ]
}